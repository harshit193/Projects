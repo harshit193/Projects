{
 "cells": [
  {
   "cell_type": "code",
   "execution_count": 68,
   "id": "989dc6e1-9749-4c7e-b920-117251f67de6",
   "metadata": {
    "trusted": true
   },
   "outputs": [],
   "source": [
    "# !pip install numpy pandas matplotlib seaborn Scipy mlxtend scikit-learn tensorflow keras"
   ]
  },
  {
   "cell_type": "code",
   "execution_count": 1,
   "id": "a0760669",
   "metadata": {
    "trusted": true
   },
   "outputs": [],
   "source": [
    "import pandas as pd\n",
    "import numpy as np\n",
    "import pickle\n",
    "from sklearn.preprocessing import StandardScaler, LabelEncoder\n",
    "from sklearn.model_selection import train_test_split"
   ]
  },
  {
   "cell_type": "code",
   "execution_count": 2,
   "id": "30110cb3",
   "metadata": {
    "trusted": true
   },
   "outputs": [
    {
     "name": "stdout",
     "output_type": "stream",
     "text": [
      "<class 'pandas.core.frame.DataFrame'>\n",
      "RangeIndex: 10000 entries, 0 to 9999\n",
      "Data columns (total 14 columns):\n",
      " #   Column           Non-Null Count  Dtype  \n",
      "---  ------           --------------  -----  \n",
      " 0   RowNumber        10000 non-null  int64  \n",
      " 1   CustomerId       10000 non-null  int64  \n",
      " 2   Surname          10000 non-null  object \n",
      " 3   CreditScore      10000 non-null  int64  \n",
      " 4   Geography        10000 non-null  object \n",
      " 5   Gender           10000 non-null  object \n",
      " 6   Age              10000 non-null  int64  \n",
      " 7   Tenure           10000 non-null  int64  \n",
      " 8   Balance          10000 non-null  float64\n",
      " 9   NumOfProducts    10000 non-null  int64  \n",
      " 10  HasCrCard        10000 non-null  int64  \n",
      " 11  IsActiveMember   10000 non-null  int64  \n",
      " 12  EstimatedSalary  10000 non-null  float64\n",
      " 13  Exited           10000 non-null  int64  \n",
      "dtypes: float64(2), int64(9), object(3)\n",
      "memory usage: 1.1+ MB\n"
     ]
    },
    {
     "data": {
      "text/html": [
       "<div>\n",
       "<style scoped>\n",
       "    .dataframe tbody tr th:only-of-type {\n",
       "        vertical-align: middle;\n",
       "    }\n",
       "\n",
       "    .dataframe tbody tr th {\n",
       "        vertical-align: top;\n",
       "    }\n",
       "\n",
       "    .dataframe thead th {\n",
       "        text-align: right;\n",
       "    }\n",
       "</style>\n",
       "<table border=\"1\" class=\"dataframe\">\n",
       "  <thead>\n",
       "    <tr style=\"text-align: right;\">\n",
       "      <th></th>\n",
       "      <th>RowNumber</th>\n",
       "      <th>CustomerId</th>\n",
       "      <th>Surname</th>\n",
       "      <th>CreditScore</th>\n",
       "      <th>Geography</th>\n",
       "      <th>Gender</th>\n",
       "      <th>Age</th>\n",
       "      <th>Tenure</th>\n",
       "      <th>Balance</th>\n",
       "      <th>NumOfProducts</th>\n",
       "      <th>HasCrCard</th>\n",
       "      <th>IsActiveMember</th>\n",
       "      <th>EstimatedSalary</th>\n",
       "      <th>Exited</th>\n",
       "    </tr>\n",
       "  </thead>\n",
       "  <tbody>\n",
       "    <tr>\n",
       "      <th>0</th>\n",
       "      <td>1</td>\n",
       "      <td>15634602</td>\n",
       "      <td>Hargrave</td>\n",
       "      <td>619</td>\n",
       "      <td>France</td>\n",
       "      <td>Female</td>\n",
       "      <td>42</td>\n",
       "      <td>2</td>\n",
       "      <td>0.00</td>\n",
       "      <td>1</td>\n",
       "      <td>1</td>\n",
       "      <td>1</td>\n",
       "      <td>101348.88</td>\n",
       "      <td>1</td>\n",
       "    </tr>\n",
       "    <tr>\n",
       "      <th>1</th>\n",
       "      <td>2</td>\n",
       "      <td>15647311</td>\n",
       "      <td>Hill</td>\n",
       "      <td>608</td>\n",
       "      <td>Spain</td>\n",
       "      <td>Female</td>\n",
       "      <td>41</td>\n",
       "      <td>1</td>\n",
       "      <td>83807.86</td>\n",
       "      <td>1</td>\n",
       "      <td>0</td>\n",
       "      <td>1</td>\n",
       "      <td>112542.58</td>\n",
       "      <td>0</td>\n",
       "    </tr>\n",
       "    <tr>\n",
       "      <th>2</th>\n",
       "      <td>3</td>\n",
       "      <td>15619304</td>\n",
       "      <td>Onio</td>\n",
       "      <td>502</td>\n",
       "      <td>France</td>\n",
       "      <td>Female</td>\n",
       "      <td>42</td>\n",
       "      <td>8</td>\n",
       "      <td>159660.80</td>\n",
       "      <td>3</td>\n",
       "      <td>1</td>\n",
       "      <td>0</td>\n",
       "      <td>113931.57</td>\n",
       "      <td>1</td>\n",
       "    </tr>\n",
       "    <tr>\n",
       "      <th>3</th>\n",
       "      <td>4</td>\n",
       "      <td>15701354</td>\n",
       "      <td>Boni</td>\n",
       "      <td>699</td>\n",
       "      <td>France</td>\n",
       "      <td>Female</td>\n",
       "      <td>39</td>\n",
       "      <td>1</td>\n",
       "      <td>0.00</td>\n",
       "      <td>2</td>\n",
       "      <td>0</td>\n",
       "      <td>0</td>\n",
       "      <td>93826.63</td>\n",
       "      <td>0</td>\n",
       "    </tr>\n",
       "    <tr>\n",
       "      <th>4</th>\n",
       "      <td>5</td>\n",
       "      <td>15737888</td>\n",
       "      <td>Mitchell</td>\n",
       "      <td>850</td>\n",
       "      <td>Spain</td>\n",
       "      <td>Female</td>\n",
       "      <td>43</td>\n",
       "      <td>2</td>\n",
       "      <td>125510.82</td>\n",
       "      <td>1</td>\n",
       "      <td>1</td>\n",
       "      <td>1</td>\n",
       "      <td>79084.10</td>\n",
       "      <td>0</td>\n",
       "    </tr>\n",
       "  </tbody>\n",
       "</table>\n",
       "</div>"
      ],
      "text/plain": [
       "   RowNumber  CustomerId   Surname  CreditScore Geography  Gender  Age  \\\n",
       "0          1    15634602  Hargrave          619    France  Female   42   \n",
       "1          2    15647311      Hill          608     Spain  Female   41   \n",
       "2          3    15619304      Onio          502    France  Female   42   \n",
       "3          4    15701354      Boni          699    France  Female   39   \n",
       "4          5    15737888  Mitchell          850     Spain  Female   43   \n",
       "\n",
       "   Tenure    Balance  NumOfProducts  HasCrCard  IsActiveMember  \\\n",
       "0       2       0.00              1          1               1   \n",
       "1       1   83807.86              1          0               1   \n",
       "2       8  159660.80              3          1               0   \n",
       "3       1       0.00              2          0               0   \n",
       "4       2  125510.82              1          1               1   \n",
       "\n",
       "   EstimatedSalary  Exited  \n",
       "0        101348.88       1  \n",
       "1        112542.58       0  \n",
       "2        113931.57       1  \n",
       "3         93826.63       0  \n",
       "4         79084.10       0  "
      ]
     },
     "execution_count": 2,
     "metadata": {},
     "output_type": "execute_result"
    }
   ],
   "source": [
    "df = pd.read_csv('./Churn_Modelling.csv')\n",
    "df.info()\n",
    "df.head()"
   ]
  },
  {
   "cell_type": "code",
   "execution_count": 3,
   "id": "a9f14644",
   "metadata": {
    "trusted": true
   },
   "outputs": [
    {
     "data": {
      "text/plain": [
       "(RowNumber          0\n",
       " CustomerId         0\n",
       " Surname            0\n",
       " CreditScore        0\n",
       " Geography          0\n",
       " Gender             0\n",
       " Age                0\n",
       " Tenure             0\n",
       " Balance            0\n",
       " NumOfProducts      0\n",
       " HasCrCard          0\n",
       " IsActiveMember     0\n",
       " EstimatedSalary    0\n",
       " Exited             0\n",
       " dtype: int64,\n",
       " np.int64(0))"
      ]
     },
     "execution_count": 3,
     "metadata": {},
     "output_type": "execute_result"
    }
   ],
   "source": [
    "df.isnull().sum(), df.duplicated().sum()"
   ]
  },
  {
   "cell_type": "code",
   "execution_count": 4,
   "id": "ee1e3706",
   "metadata": {
    "trusted": true
   },
   "outputs": [
    {
     "data": {
      "text/plain": [
       "(Exited\n",
       " 0    7963\n",
       " 1    2037\n",
       " Name: count, dtype: int64,\n",
       " Geography\n",
       " France     5014\n",
       " Germany    2509\n",
       " Spain      2477\n",
       " Name: count, dtype: int64,\n",
       " Gender\n",
       " Male      5457\n",
       " Female    4543\n",
       " Name: count, dtype: int64)"
      ]
     },
     "execution_count": 4,
     "metadata": {},
     "output_type": "execute_result"
    }
   ],
   "source": [
    "df['Exited'].value_counts(), df['Geography'].value_counts(), df['Gender'].value_counts()"
   ]
  },
  {
   "cell_type": "code",
   "execution_count": 5,
   "id": "46b2db11",
   "metadata": {
    "trusted": true
   },
   "outputs": [
    {
     "data": {
      "text/html": [
       "<div>\n",
       "<style scoped>\n",
       "    .dataframe tbody tr th:only-of-type {\n",
       "        vertical-align: middle;\n",
       "    }\n",
       "\n",
       "    .dataframe tbody tr th {\n",
       "        vertical-align: top;\n",
       "    }\n",
       "\n",
       "    .dataframe thead th {\n",
       "        text-align: right;\n",
       "    }\n",
       "</style>\n",
       "<table border=\"1\" class=\"dataframe\">\n",
       "  <thead>\n",
       "    <tr style=\"text-align: right;\">\n",
       "      <th></th>\n",
       "      <th>CreditScore</th>\n",
       "      <th>Geography</th>\n",
       "      <th>Gender</th>\n",
       "      <th>Age</th>\n",
       "      <th>Tenure</th>\n",
       "      <th>Balance</th>\n",
       "      <th>NumOfProducts</th>\n",
       "      <th>HasCrCard</th>\n",
       "      <th>IsActiveMember</th>\n",
       "      <th>EstimatedSalary</th>\n",
       "      <th>Exited</th>\n",
       "    </tr>\n",
       "  </thead>\n",
       "  <tbody>\n",
       "    <tr>\n",
       "      <th>0</th>\n",
       "      <td>619</td>\n",
       "      <td>France</td>\n",
       "      <td>Female</td>\n",
       "      <td>42</td>\n",
       "      <td>2</td>\n",
       "      <td>0.00</td>\n",
       "      <td>1</td>\n",
       "      <td>1</td>\n",
       "      <td>1</td>\n",
       "      <td>101348.88</td>\n",
       "      <td>1</td>\n",
       "    </tr>\n",
       "    <tr>\n",
       "      <th>1</th>\n",
       "      <td>608</td>\n",
       "      <td>Spain</td>\n",
       "      <td>Female</td>\n",
       "      <td>41</td>\n",
       "      <td>1</td>\n",
       "      <td>83807.86</td>\n",
       "      <td>1</td>\n",
       "      <td>0</td>\n",
       "      <td>1</td>\n",
       "      <td>112542.58</td>\n",
       "      <td>0</td>\n",
       "    </tr>\n",
       "    <tr>\n",
       "      <th>2</th>\n",
       "      <td>502</td>\n",
       "      <td>France</td>\n",
       "      <td>Female</td>\n",
       "      <td>42</td>\n",
       "      <td>8</td>\n",
       "      <td>159660.80</td>\n",
       "      <td>3</td>\n",
       "      <td>1</td>\n",
       "      <td>0</td>\n",
       "      <td>113931.57</td>\n",
       "      <td>1</td>\n",
       "    </tr>\n",
       "    <tr>\n",
       "      <th>3</th>\n",
       "      <td>699</td>\n",
       "      <td>France</td>\n",
       "      <td>Female</td>\n",
       "      <td>39</td>\n",
       "      <td>1</td>\n",
       "      <td>0.00</td>\n",
       "      <td>2</td>\n",
       "      <td>0</td>\n",
       "      <td>0</td>\n",
       "      <td>93826.63</td>\n",
       "      <td>0</td>\n",
       "    </tr>\n",
       "    <tr>\n",
       "      <th>4</th>\n",
       "      <td>850</td>\n",
       "      <td>Spain</td>\n",
       "      <td>Female</td>\n",
       "      <td>43</td>\n",
       "      <td>2</td>\n",
       "      <td>125510.82</td>\n",
       "      <td>1</td>\n",
       "      <td>1</td>\n",
       "      <td>1</td>\n",
       "      <td>79084.10</td>\n",
       "      <td>0</td>\n",
       "    </tr>\n",
       "  </tbody>\n",
       "</table>\n",
       "</div>"
      ],
      "text/plain": [
       "   CreditScore Geography  Gender  Age  Tenure    Balance  NumOfProducts  \\\n",
       "0          619    France  Female   42       2       0.00              1   \n",
       "1          608     Spain  Female   41       1   83807.86              1   \n",
       "2          502    France  Female   42       8  159660.80              3   \n",
       "3          699    France  Female   39       1       0.00              2   \n",
       "4          850     Spain  Female   43       2  125510.82              1   \n",
       "\n",
       "   HasCrCard  IsActiveMember  EstimatedSalary  Exited  \n",
       "0          1               1        101348.88       1  \n",
       "1          0               1        112542.58       0  \n",
       "2          1               0        113931.57       1  \n",
       "3          0               0         93826.63       0  \n",
       "4          1               1         79084.10       0  "
      ]
     },
     "execution_count": 5,
     "metadata": {},
     "output_type": "execute_result"
    }
   ],
   "source": [
    "df.drop(columns=['RowNumber','CustomerId','Surname'],inplace=True)\n",
    "df.head()"
   ]
  },
  {
   "cell_type": "code",
   "execution_count": 6,
   "id": "880a1e81",
   "metadata": {
    "trusted": true
   },
   "outputs": [
    {
     "data": {
      "text/plain": [
       "Geography\n",
       "0    5014\n",
       "1    2509\n",
       "2    2477\n",
       "Name: count, dtype: int64"
      ]
     },
     "execution_count": 6,
     "metadata": {},
     "output_type": "execute_result"
    }
   ],
   "source": [
    "le_geography = LabelEncoder()\n",
    "df['Geography'] = le_geography.fit_transform(df['Geography'])\n",
    "with open('./Encoder_geography.pkl','wb') as file:\n",
    "    pickle.dump(le_geography, file)\n",
    "df['Geography'].value_counts()"
   ]
  },
  {
   "cell_type": "code",
   "execution_count": 7,
   "id": "0a97741d",
   "metadata": {
    "trusted": true
   },
   "outputs": [
    {
     "data": {
      "text/plain": [
       "Gender\n",
       "1    5457\n",
       "0    4543\n",
       "Name: count, dtype: int64"
      ]
     },
     "execution_count": 7,
     "metadata": {},
     "output_type": "execute_result"
    }
   ],
   "source": [
    "le_gender = LabelEncoder()\n",
    "df['Gender'] = le_gender.fit_transform(df['Gender'])\n",
    "with open('./Encoder_gender.pkl','wb') as file:\n",
    "    pickle.dump(le_gender, file)\n",
    "df['Gender'].value_counts()"
   ]
  },
  {
   "cell_type": "code",
   "execution_count": 8,
   "id": "85f606c4",
   "metadata": {
    "trusted": true
   },
   "outputs": [
    {
     "name": "stdout",
     "output_type": "stream",
     "text": [
      "<class 'pandas.core.frame.DataFrame'>\n",
      "RangeIndex: 10000 entries, 0 to 9999\n",
      "Data columns (total 11 columns):\n",
      " #   Column           Non-Null Count  Dtype  \n",
      "---  ------           --------------  -----  \n",
      " 0   CreditScore      10000 non-null  int64  \n",
      " 1   Geography        10000 non-null  int64  \n",
      " 2   Gender           10000 non-null  int64  \n",
      " 3   Age              10000 non-null  int64  \n",
      " 4   Tenure           10000 non-null  int64  \n",
      " 5   Balance          10000 non-null  float64\n",
      " 6   NumOfProducts    10000 non-null  int64  \n",
      " 7   HasCrCard        10000 non-null  int64  \n",
      " 8   IsActiveMember   10000 non-null  int64  \n",
      " 9   EstimatedSalary  10000 non-null  float64\n",
      " 10  Exited           10000 non-null  int64  \n",
      "dtypes: float64(2), int64(9)\n",
      "memory usage: 859.5 KB\n"
     ]
    },
    {
     "data": {
      "text/html": [
       "<div>\n",
       "<style scoped>\n",
       "    .dataframe tbody tr th:only-of-type {\n",
       "        vertical-align: middle;\n",
       "    }\n",
       "\n",
       "    .dataframe tbody tr th {\n",
       "        vertical-align: top;\n",
       "    }\n",
       "\n",
       "    .dataframe thead th {\n",
       "        text-align: right;\n",
       "    }\n",
       "</style>\n",
       "<table border=\"1\" class=\"dataframe\">\n",
       "  <thead>\n",
       "    <tr style=\"text-align: right;\">\n",
       "      <th></th>\n",
       "      <th>CreditScore</th>\n",
       "      <th>Geography</th>\n",
       "      <th>Gender</th>\n",
       "      <th>Age</th>\n",
       "      <th>Tenure</th>\n",
       "      <th>Balance</th>\n",
       "      <th>NumOfProducts</th>\n",
       "      <th>HasCrCard</th>\n",
       "      <th>IsActiveMember</th>\n",
       "      <th>EstimatedSalary</th>\n",
       "      <th>Exited</th>\n",
       "    </tr>\n",
       "  </thead>\n",
       "  <tbody>\n",
       "    <tr>\n",
       "      <th>0</th>\n",
       "      <td>619</td>\n",
       "      <td>0</td>\n",
       "      <td>0</td>\n",
       "      <td>42</td>\n",
       "      <td>2</td>\n",
       "      <td>0.00</td>\n",
       "      <td>1</td>\n",
       "      <td>1</td>\n",
       "      <td>1</td>\n",
       "      <td>101348.88</td>\n",
       "      <td>1</td>\n",
       "    </tr>\n",
       "    <tr>\n",
       "      <th>1</th>\n",
       "      <td>608</td>\n",
       "      <td>2</td>\n",
       "      <td>0</td>\n",
       "      <td>41</td>\n",
       "      <td>1</td>\n",
       "      <td>83807.86</td>\n",
       "      <td>1</td>\n",
       "      <td>0</td>\n",
       "      <td>1</td>\n",
       "      <td>112542.58</td>\n",
       "      <td>0</td>\n",
       "    </tr>\n",
       "    <tr>\n",
       "      <th>2</th>\n",
       "      <td>502</td>\n",
       "      <td>0</td>\n",
       "      <td>0</td>\n",
       "      <td>42</td>\n",
       "      <td>8</td>\n",
       "      <td>159660.80</td>\n",
       "      <td>3</td>\n",
       "      <td>1</td>\n",
       "      <td>0</td>\n",
       "      <td>113931.57</td>\n",
       "      <td>1</td>\n",
       "    </tr>\n",
       "    <tr>\n",
       "      <th>3</th>\n",
       "      <td>699</td>\n",
       "      <td>0</td>\n",
       "      <td>0</td>\n",
       "      <td>39</td>\n",
       "      <td>1</td>\n",
       "      <td>0.00</td>\n",
       "      <td>2</td>\n",
       "      <td>0</td>\n",
       "      <td>0</td>\n",
       "      <td>93826.63</td>\n",
       "      <td>0</td>\n",
       "    </tr>\n",
       "    <tr>\n",
       "      <th>4</th>\n",
       "      <td>850</td>\n",
       "      <td>2</td>\n",
       "      <td>0</td>\n",
       "      <td>43</td>\n",
       "      <td>2</td>\n",
       "      <td>125510.82</td>\n",
       "      <td>1</td>\n",
       "      <td>1</td>\n",
       "      <td>1</td>\n",
       "      <td>79084.10</td>\n",
       "      <td>0</td>\n",
       "    </tr>\n",
       "  </tbody>\n",
       "</table>\n",
       "</div>"
      ],
      "text/plain": [
       "   CreditScore  Geography  Gender  Age  Tenure    Balance  NumOfProducts  \\\n",
       "0          619          0       0   42       2       0.00              1   \n",
       "1          608          2       0   41       1   83807.86              1   \n",
       "2          502          0       0   42       8  159660.80              3   \n",
       "3          699          0       0   39       1       0.00              2   \n",
       "4          850          2       0   43       2  125510.82              1   \n",
       "\n",
       "   HasCrCard  IsActiveMember  EstimatedSalary  Exited  \n",
       "0          1               1        101348.88       1  \n",
       "1          0               1        112542.58       0  \n",
       "2          1               0        113931.57       1  \n",
       "3          0               0         93826.63       0  \n",
       "4          1               1         79084.10       0  "
      ]
     },
     "execution_count": 8,
     "metadata": {},
     "output_type": "execute_result"
    }
   ],
   "source": [
    "df.info()\n",
    "df.head()"
   ]
  },
  {
   "cell_type": "code",
   "execution_count": 9,
   "id": "5896f901",
   "metadata": {
    "trusted": true
   },
   "outputs": [],
   "source": [
    "x = df.iloc[:,:-1]\n",
    "y = df['Exited']"
   ]
  },
  {
   "cell_type": "code",
   "execution_count": 10,
   "id": "bd3eca3d",
   "metadata": {
    "trusted": true
   },
   "outputs": [
    {
     "data": {
      "text/html": [
       "<div>\n",
       "<style scoped>\n",
       "    .dataframe tbody tr th:only-of-type {\n",
       "        vertical-align: middle;\n",
       "    }\n",
       "\n",
       "    .dataframe tbody tr th {\n",
       "        vertical-align: top;\n",
       "    }\n",
       "\n",
       "    .dataframe thead th {\n",
       "        text-align: right;\n",
       "    }\n",
       "</style>\n",
       "<table border=\"1\" class=\"dataframe\">\n",
       "  <thead>\n",
       "    <tr style=\"text-align: right;\">\n",
       "      <th></th>\n",
       "      <th>CreditScore</th>\n",
       "      <th>Geography</th>\n",
       "      <th>Gender</th>\n",
       "      <th>Age</th>\n",
       "      <th>Tenure</th>\n",
       "      <th>Balance</th>\n",
       "      <th>NumOfProducts</th>\n",
       "      <th>HasCrCard</th>\n",
       "      <th>IsActiveMember</th>\n",
       "      <th>EstimatedSalary</th>\n",
       "    </tr>\n",
       "  </thead>\n",
       "  <tbody>\n",
       "    <tr>\n",
       "      <th>0</th>\n",
       "      <td>-0.326221</td>\n",
       "      <td>-0.901886</td>\n",
       "      <td>-1.095988</td>\n",
       "      <td>0.293517</td>\n",
       "      <td>-1.041760</td>\n",
       "      <td>-1.225848</td>\n",
       "      <td>-0.911583</td>\n",
       "      <td>0.646092</td>\n",
       "      <td>0.970243</td>\n",
       "      <td>0.021886</td>\n",
       "    </tr>\n",
       "    <tr>\n",
       "      <th>1</th>\n",
       "      <td>-0.440036</td>\n",
       "      <td>1.515067</td>\n",
       "      <td>-1.095988</td>\n",
       "      <td>0.198164</td>\n",
       "      <td>-1.387538</td>\n",
       "      <td>0.117350</td>\n",
       "      <td>-0.911583</td>\n",
       "      <td>-1.547768</td>\n",
       "      <td>0.970243</td>\n",
       "      <td>0.216534</td>\n",
       "    </tr>\n",
       "    <tr>\n",
       "      <th>2</th>\n",
       "      <td>-1.536794</td>\n",
       "      <td>-0.901886</td>\n",
       "      <td>-1.095988</td>\n",
       "      <td>0.293517</td>\n",
       "      <td>1.032908</td>\n",
       "      <td>1.333053</td>\n",
       "      <td>2.527057</td>\n",
       "      <td>0.646092</td>\n",
       "      <td>-1.030670</td>\n",
       "      <td>0.240687</td>\n",
       "    </tr>\n",
       "    <tr>\n",
       "      <th>3</th>\n",
       "      <td>0.501521</td>\n",
       "      <td>-0.901886</td>\n",
       "      <td>-1.095988</td>\n",
       "      <td>0.007457</td>\n",
       "      <td>-1.387538</td>\n",
       "      <td>-1.225848</td>\n",
       "      <td>0.807737</td>\n",
       "      <td>-1.547768</td>\n",
       "      <td>-1.030670</td>\n",
       "      <td>-0.108918</td>\n",
       "    </tr>\n",
       "    <tr>\n",
       "      <th>4</th>\n",
       "      <td>2.063884</td>\n",
       "      <td>1.515067</td>\n",
       "      <td>-1.095988</td>\n",
       "      <td>0.388871</td>\n",
       "      <td>-1.041760</td>\n",
       "      <td>0.785728</td>\n",
       "      <td>-0.911583</td>\n",
       "      <td>0.646092</td>\n",
       "      <td>0.970243</td>\n",
       "      <td>-0.365276</td>\n",
       "    </tr>\n",
       "  </tbody>\n",
       "</table>\n",
       "</div>"
      ],
      "text/plain": [
       "   CreditScore  Geography    Gender       Age    Tenure   Balance  \\\n",
       "0    -0.326221  -0.901886 -1.095988  0.293517 -1.041760 -1.225848   \n",
       "1    -0.440036   1.515067 -1.095988  0.198164 -1.387538  0.117350   \n",
       "2    -1.536794  -0.901886 -1.095988  0.293517  1.032908  1.333053   \n",
       "3     0.501521  -0.901886 -1.095988  0.007457 -1.387538 -1.225848   \n",
       "4     2.063884   1.515067 -1.095988  0.388871 -1.041760  0.785728   \n",
       "\n",
       "   NumOfProducts  HasCrCard  IsActiveMember  EstimatedSalary  \n",
       "0      -0.911583   0.646092        0.970243         0.021886  \n",
       "1      -0.911583  -1.547768        0.970243         0.216534  \n",
       "2       2.527057   0.646092       -1.030670         0.240687  \n",
       "3       0.807737  -1.547768       -1.030670        -0.108918  \n",
       "4      -0.911583   0.646092        0.970243        -0.365276  "
      ]
     },
     "execution_count": 10,
     "metadata": {},
     "output_type": "execute_result"
    }
   ],
   "source": [
    "scaler = StandardScaler()\n",
    "x = pd.DataFrame(scaler.fit_transform(x), columns=x.columns)\n",
    "with open('./Scaler.pkl','wb') as file:\n",
    "    pickle.dump(scaler, file)\n",
    "x.head()"
   ]
  },
  {
   "cell_type": "code",
   "execution_count": 11,
   "id": "20a81f13",
   "metadata": {
    "trusted": true
   },
   "outputs": [],
   "source": [
    "x_train, x_test, y_train, y_test = train_test_split(x, y, test_size=0.2, random_state=42)"
   ]
  },
  {
   "cell_type": "code",
   "execution_count": 12,
   "id": "c64aee9d",
   "metadata": {
    "trusted": true
   },
   "outputs": [
    {
     "data": {
      "text/plain": [
       "((8000, 10), (8000,))"
      ]
     },
     "execution_count": 12,
     "metadata": {},
     "output_type": "execute_result"
    }
   ],
   "source": [
    "x_train.shape, y_train.shape"
   ]
  },
  {
   "cell_type": "code",
   "execution_count": 13,
   "id": "ac015c12",
   "metadata": {
    "trusted": true
   },
   "outputs": [
    {
     "data": {
      "text/plain": [
       "((2000, 10), (2000,))"
      ]
     },
     "execution_count": 13,
     "metadata": {},
     "output_type": "execute_result"
    }
   ],
   "source": [
    "x_test.shape, y_test.shape"
   ]
  },
  {
   "cell_type": "code",
   "execution_count": 14,
   "id": "78c71436",
   "metadata": {
    "trusted": true
   },
   "outputs": [],
   "source": [
    "import tensorflow\n",
    "from tensorflow import keras\n",
    "from tensorflow.keras import Sequential\n",
    "from tensorflow.keras.layers import Dense"
   ]
  },
  {
   "cell_type": "code",
   "execution_count": 15,
   "id": "0236227d",
   "metadata": {
    "trusted": true
   },
   "outputs": [
    {
     "name": "stderr",
     "output_type": "stream",
     "text": [
      "f:\\Windows 10\\Python Files\\Projects\\py_venv\\Lib\\site-packages\\keras\\src\\layers\\core\\dense.py:92: UserWarning: Do not pass an `input_shape`/`input_dim` argument to a layer. When using Sequential models, prefer using an `Input(shape)` object as the first layer in the model instead.\n",
      "  super().__init__(activity_regularizer=activity_regularizer, **kwargs)\n"
     ]
    }
   ],
   "source": [
    "model = Sequential()\n",
    "\n",
    "model.add(Dense(10, activation='relu', input_dim = 10))\n",
    "model.add(Dense(10, activation='relu', input_dim = 10))\n",
    "model.add(Dense(5, activation='relu', input_dim = 10))\n",
    "model.add(Dense(1, activation='sigmoid'))"
   ]
  },
  {
   "cell_type": "code",
   "execution_count": 16,
   "id": "43276ead",
   "metadata": {
    "trusted": true
   },
   "outputs": [
    {
     "data": {
      "text/html": [
       "<pre style=\"white-space:pre;overflow-x:auto;line-height:normal;font-family:Menlo,'DejaVu Sans Mono',consolas,'Courier New',monospace\"><span style=\"font-weight: bold\">Model: \"sequential\"</span>\n",
       "</pre>\n"
      ],
      "text/plain": [
       "\u001b[1mModel: \"sequential\"\u001b[0m\n"
      ]
     },
     "metadata": {},
     "output_type": "display_data"
    },
    {
     "data": {
      "text/html": [
       "<pre style=\"white-space:pre;overflow-x:auto;line-height:normal;font-family:Menlo,'DejaVu Sans Mono',consolas,'Courier New',monospace\">┏━━━━━━━━━━━━━━━━━━━━━━━━━━━━━━━━━┳━━━━━━━━━━━━━━━━━━━━━━━━┳━━━━━━━━━━━━━━━┓\n",
       "┃<span style=\"font-weight: bold\"> Layer (type)                    </span>┃<span style=\"font-weight: bold\"> Output Shape           </span>┃<span style=\"font-weight: bold\">       Param # </span>┃\n",
       "┡━━━━━━━━━━━━━━━━━━━━━━━━━━━━━━━━━╇━━━━━━━━━━━━━━━━━━━━━━━━╇━━━━━━━━━━━━━━━┩\n",
       "│ dense (<span style=\"color: #0087ff; text-decoration-color: #0087ff\">Dense</span>)                   │ (<span style=\"color: #00d7ff; text-decoration-color: #00d7ff\">None</span>, <span style=\"color: #00af00; text-decoration-color: #00af00\">10</span>)             │           <span style=\"color: #00af00; text-decoration-color: #00af00\">110</span> │\n",
       "├─────────────────────────────────┼────────────────────────┼───────────────┤\n",
       "│ dense_1 (<span style=\"color: #0087ff; text-decoration-color: #0087ff\">Dense</span>)                 │ (<span style=\"color: #00d7ff; text-decoration-color: #00d7ff\">None</span>, <span style=\"color: #00af00; text-decoration-color: #00af00\">10</span>)             │           <span style=\"color: #00af00; text-decoration-color: #00af00\">110</span> │\n",
       "├─────────────────────────────────┼────────────────────────┼───────────────┤\n",
       "│ dense_2 (<span style=\"color: #0087ff; text-decoration-color: #0087ff\">Dense</span>)                 │ (<span style=\"color: #00d7ff; text-decoration-color: #00d7ff\">None</span>, <span style=\"color: #00af00; text-decoration-color: #00af00\">5</span>)              │            <span style=\"color: #00af00; text-decoration-color: #00af00\">55</span> │\n",
       "├─────────────────────────────────┼────────────────────────┼───────────────┤\n",
       "│ dense_3 (<span style=\"color: #0087ff; text-decoration-color: #0087ff\">Dense</span>)                 │ (<span style=\"color: #00d7ff; text-decoration-color: #00d7ff\">None</span>, <span style=\"color: #00af00; text-decoration-color: #00af00\">1</span>)              │             <span style=\"color: #00af00; text-decoration-color: #00af00\">6</span> │\n",
       "└─────────────────────────────────┴────────────────────────┴───────────────┘\n",
       "</pre>\n"
      ],
      "text/plain": [
       "┏━━━━━━━━━━━━━━━━━━━━━━━━━━━━━━━━━┳━━━━━━━━━━━━━━━━━━━━━━━━┳━━━━━━━━━━━━━━━┓\n",
       "┃\u001b[1m \u001b[0m\u001b[1mLayer (type)                   \u001b[0m\u001b[1m \u001b[0m┃\u001b[1m \u001b[0m\u001b[1mOutput Shape          \u001b[0m\u001b[1m \u001b[0m┃\u001b[1m \u001b[0m\u001b[1m      Param #\u001b[0m\u001b[1m \u001b[0m┃\n",
       "┡━━━━━━━━━━━━━━━━━━━━━━━━━━━━━━━━━╇━━━━━━━━━━━━━━━━━━━━━━━━╇━━━━━━━━━━━━━━━┩\n",
       "│ dense (\u001b[38;5;33mDense\u001b[0m)                   │ (\u001b[38;5;45mNone\u001b[0m, \u001b[38;5;34m10\u001b[0m)             │           \u001b[38;5;34m110\u001b[0m │\n",
       "├─────────────────────────────────┼────────────────────────┼───────────────┤\n",
       "│ dense_1 (\u001b[38;5;33mDense\u001b[0m)                 │ (\u001b[38;5;45mNone\u001b[0m, \u001b[38;5;34m10\u001b[0m)             │           \u001b[38;5;34m110\u001b[0m │\n",
       "├─────────────────────────────────┼────────────────────────┼───────────────┤\n",
       "│ dense_2 (\u001b[38;5;33mDense\u001b[0m)                 │ (\u001b[38;5;45mNone\u001b[0m, \u001b[38;5;34m5\u001b[0m)              │            \u001b[38;5;34m55\u001b[0m │\n",
       "├─────────────────────────────────┼────────────────────────┼───────────────┤\n",
       "│ dense_3 (\u001b[38;5;33mDense\u001b[0m)                 │ (\u001b[38;5;45mNone\u001b[0m, \u001b[38;5;34m1\u001b[0m)              │             \u001b[38;5;34m6\u001b[0m │\n",
       "└─────────────────────────────────┴────────────────────────┴───────────────┘\n"
      ]
     },
     "metadata": {},
     "output_type": "display_data"
    },
    {
     "data": {
      "text/html": [
       "<pre style=\"white-space:pre;overflow-x:auto;line-height:normal;font-family:Menlo,'DejaVu Sans Mono',consolas,'Courier New',monospace\"><span style=\"font-weight: bold\"> Total params: </span><span style=\"color: #00af00; text-decoration-color: #00af00\">281</span> (1.10 KB)\n",
       "</pre>\n"
      ],
      "text/plain": [
       "\u001b[1m Total params: \u001b[0m\u001b[38;5;34m281\u001b[0m (1.10 KB)\n"
      ]
     },
     "metadata": {},
     "output_type": "display_data"
    },
    {
     "data": {
      "text/html": [
       "<pre style=\"white-space:pre;overflow-x:auto;line-height:normal;font-family:Menlo,'DejaVu Sans Mono',consolas,'Courier New',monospace\"><span style=\"font-weight: bold\"> Trainable params: </span><span style=\"color: #00af00; text-decoration-color: #00af00\">281</span> (1.10 KB)\n",
       "</pre>\n"
      ],
      "text/plain": [
       "\u001b[1m Trainable params: \u001b[0m\u001b[38;5;34m281\u001b[0m (1.10 KB)\n"
      ]
     },
     "metadata": {},
     "output_type": "display_data"
    },
    {
     "data": {
      "text/html": [
       "<pre style=\"white-space:pre;overflow-x:auto;line-height:normal;font-family:Menlo,'DejaVu Sans Mono',consolas,'Courier New',monospace\"><span style=\"font-weight: bold\"> Non-trainable params: </span><span style=\"color: #00af00; text-decoration-color: #00af00\">0</span> (0.00 B)\n",
       "</pre>\n"
      ],
      "text/plain": [
       "\u001b[1m Non-trainable params: \u001b[0m\u001b[38;5;34m0\u001b[0m (0.00 B)\n"
      ]
     },
     "metadata": {},
     "output_type": "display_data"
    }
   ],
   "source": [
    "model.summary()"
   ]
  },
  {
   "cell_type": "code",
   "execution_count": 17,
   "id": "17af01cd",
   "metadata": {
    "trusted": true
   },
   "outputs": [],
   "source": [
    "model.compile(loss='binary_crossentropy', optimizer='Adam', metrics=['accuracy'])"
   ]
  },
  {
   "cell_type": "code",
   "execution_count": 18,
   "id": "1bf6bec9",
   "metadata": {
    "trusted": true
   },
   "outputs": [
    {
     "name": "stdout",
     "output_type": "stream",
     "text": [
      "Epoch 1/100\n",
      "\u001b[1m200/200\u001b[0m \u001b[32m━━━━━━━━━━━━━━━━━━━━\u001b[0m\u001b[37m\u001b[0m \u001b[1m8s\u001b[0m 4ms/step - accuracy: 0.7761 - loss: 0.5471 - val_accuracy: 0.7987 - val_loss: 0.4484\n",
      "Epoch 2/100\n",
      "\u001b[1m200/200\u001b[0m \u001b[32m━━━━━━━━━━━━━━━━━━━━\u001b[0m\u001b[37m\u001b[0m \u001b[1m0s\u001b[0m 2ms/step - accuracy: 0.7991 - loss: 0.4490 - val_accuracy: 0.8163 - val_loss: 0.4285\n",
      "Epoch 3/100\n",
      "\u001b[1m200/200\u001b[0m \u001b[32m━━━━━━━━━━━━━━━━━━━━\u001b[0m\u001b[37m\u001b[0m \u001b[1m0s\u001b[0m 2ms/step - accuracy: 0.8172 - loss: 0.4294 - val_accuracy: 0.8331 - val_loss: 0.4122\n",
      "Epoch 4/100\n",
      "\u001b[1m200/200\u001b[0m \u001b[32m━━━━━━━━━━━━━━━━━━━━\u001b[0m\u001b[37m\u001b[0m \u001b[1m0s\u001b[0m 2ms/step - accuracy: 0.8327 - loss: 0.4121 - val_accuracy: 0.8431 - val_loss: 0.3997\n",
      "Epoch 5/100\n",
      "\u001b[1m200/200\u001b[0m \u001b[32m━━━━━━━━━━━━━━━━━━━━\u001b[0m\u001b[37m\u001b[0m \u001b[1m0s\u001b[0m 2ms/step - accuracy: 0.8466 - loss: 0.3923 - val_accuracy: 0.8438 - val_loss: 0.3848\n",
      "Epoch 6/100\n",
      "\u001b[1m200/200\u001b[0m \u001b[32m━━━━━━━━━━━━━━━━━━━━\u001b[0m\u001b[37m\u001b[0m \u001b[1m0s\u001b[0m 2ms/step - accuracy: 0.8547 - loss: 0.3752 - val_accuracy: 0.8475 - val_loss: 0.3769\n",
      "Epoch 7/100\n",
      "\u001b[1m200/200\u001b[0m \u001b[32m━━━━━━━━━━━━━━━━━━━━\u001b[0m\u001b[37m\u001b[0m \u001b[1m0s\u001b[0m 2ms/step - accuracy: 0.8575 - loss: 0.3669 - val_accuracy: 0.8475 - val_loss: 0.3719\n",
      "Epoch 8/100\n",
      "\u001b[1m200/200\u001b[0m \u001b[32m━━━━━━━━━━━━━━━━━━━━\u001b[0m\u001b[37m\u001b[0m \u001b[1m1s\u001b[0m 2ms/step - accuracy: 0.8575 - loss: 0.3623 - val_accuracy: 0.8500 - val_loss: 0.3688\n",
      "Epoch 9/100\n",
      "\u001b[1m200/200\u001b[0m \u001b[32m━━━━━━━━━━━━━━━━━━━━\u001b[0m\u001b[37m\u001b[0m \u001b[1m0s\u001b[0m 2ms/step - accuracy: 0.8569 - loss: 0.3586 - val_accuracy: 0.8506 - val_loss: 0.3680\n",
      "Epoch 10/100\n",
      "\u001b[1m200/200\u001b[0m \u001b[32m━━━━━━━━━━━━━━━━━━━━\u001b[0m\u001b[37m\u001b[0m \u001b[1m0s\u001b[0m 2ms/step - accuracy: 0.8572 - loss: 0.3557 - val_accuracy: 0.8444 - val_loss: 0.3666\n",
      "Epoch 11/100\n",
      "\u001b[1m200/200\u001b[0m \u001b[32m━━━━━━━━━━━━━━━━━━━━\u001b[0m\u001b[37m\u001b[0m \u001b[1m0s\u001b[0m 2ms/step - accuracy: 0.8558 - loss: 0.3540 - val_accuracy: 0.8506 - val_loss: 0.3651\n",
      "Epoch 12/100\n",
      "\u001b[1m200/200\u001b[0m \u001b[32m━━━━━━━━━━━━━━━━━━━━\u001b[0m\u001b[37m\u001b[0m \u001b[1m0s\u001b[0m 2ms/step - accuracy: 0.8569 - loss: 0.3525 - val_accuracy: 0.8494 - val_loss: 0.3631\n",
      "Epoch 13/100\n",
      "\u001b[1m200/200\u001b[0m \u001b[32m━━━━━━━━━━━━━━━━━━━━\u001b[0m\u001b[37m\u001b[0m \u001b[1m0s\u001b[0m 2ms/step - accuracy: 0.8575 - loss: 0.3505 - val_accuracy: 0.8462 - val_loss: 0.3619\n",
      "Epoch 14/100\n",
      "\u001b[1m200/200\u001b[0m \u001b[32m━━━━━━━━━━━━━━━━━━━━\u001b[0m\u001b[37m\u001b[0m \u001b[1m1s\u001b[0m 2ms/step - accuracy: 0.8577 - loss: 0.3499 - val_accuracy: 0.8506 - val_loss: 0.3615\n",
      "Epoch 15/100\n",
      "\u001b[1m200/200\u001b[0m \u001b[32m━━━━━━━━━━━━━━━━━━━━\u001b[0m\u001b[37m\u001b[0m \u001b[1m0s\u001b[0m 2ms/step - accuracy: 0.8587 - loss: 0.3488 - val_accuracy: 0.8506 - val_loss: 0.3612\n",
      "Epoch 16/100\n",
      "\u001b[1m200/200\u001b[0m \u001b[32m━━━━━━━━━━━━━━━━━━━━\u001b[0m\u001b[37m\u001b[0m \u001b[1m1s\u001b[0m 3ms/step - accuracy: 0.8597 - loss: 0.3478 - val_accuracy: 0.8506 - val_loss: 0.3629\n",
      "Epoch 17/100\n",
      "\u001b[1m200/200\u001b[0m \u001b[32m━━━━━━━━━━━━━━━━━━━━\u001b[0m\u001b[37m\u001b[0m \u001b[1m0s\u001b[0m 2ms/step - accuracy: 0.8592 - loss: 0.3470 - val_accuracy: 0.8494 - val_loss: 0.3604\n",
      "Epoch 18/100\n",
      "\u001b[1m200/200\u001b[0m \u001b[32m━━━━━━━━━━━━━━━━━━━━\u001b[0m\u001b[37m\u001b[0m \u001b[1m0s\u001b[0m 2ms/step - accuracy: 0.8602 - loss: 0.3465 - val_accuracy: 0.8531 - val_loss: 0.3599\n",
      "Epoch 19/100\n",
      "\u001b[1m200/200\u001b[0m \u001b[32m━━━━━━━━━━━━━━━━━━━━\u001b[0m\u001b[37m\u001b[0m \u001b[1m0s\u001b[0m 2ms/step - accuracy: 0.8611 - loss: 0.3448 - val_accuracy: 0.8512 - val_loss: 0.3617\n",
      "Epoch 20/100\n",
      "\u001b[1m200/200\u001b[0m \u001b[32m━━━━━━━━━━━━━━━━━━━━\u001b[0m\u001b[37m\u001b[0m \u001b[1m0s\u001b[0m 2ms/step - accuracy: 0.8617 - loss: 0.3449 - val_accuracy: 0.8531 - val_loss: 0.3595\n",
      "Epoch 21/100\n",
      "\u001b[1m200/200\u001b[0m \u001b[32m━━━━━━━━━━━━━━━━━━━━\u001b[0m\u001b[37m\u001b[0m \u001b[1m0s\u001b[0m 2ms/step - accuracy: 0.8616 - loss: 0.3437 - val_accuracy: 0.8500 - val_loss: 0.3610\n",
      "Epoch 22/100\n",
      "\u001b[1m200/200\u001b[0m \u001b[32m━━━━━━━━━━━━━━━━━━━━\u001b[0m\u001b[37m\u001b[0m \u001b[1m0s\u001b[0m 2ms/step - accuracy: 0.8606 - loss: 0.3440 - val_accuracy: 0.8506 - val_loss: 0.3599\n",
      "Epoch 23/100\n",
      "\u001b[1m200/200\u001b[0m \u001b[32m━━━━━━━━━━━━━━━━━━━━\u001b[0m\u001b[37m\u001b[0m \u001b[1m0s\u001b[0m 2ms/step - accuracy: 0.8623 - loss: 0.3425 - val_accuracy: 0.8494 - val_loss: 0.3599\n",
      "Epoch 24/100\n",
      "\u001b[1m200/200\u001b[0m \u001b[32m━━━━━━━━━━━━━━━━━━━━\u001b[0m\u001b[37m\u001b[0m \u001b[1m1s\u001b[0m 2ms/step - accuracy: 0.8627 - loss: 0.3422 - val_accuracy: 0.8487 - val_loss: 0.3599\n",
      "Epoch 25/100\n",
      "\u001b[1m200/200\u001b[0m \u001b[32m━━━━━━━━━━━━━━━━━━━━\u001b[0m\u001b[37m\u001b[0m \u001b[1m0s\u001b[0m 2ms/step - accuracy: 0.8617 - loss: 0.3411 - val_accuracy: 0.8544 - val_loss: 0.3591\n",
      "Epoch 26/100\n",
      "\u001b[1m200/200\u001b[0m \u001b[32m━━━━━━━━━━━━━━━━━━━━\u001b[0m\u001b[37m\u001b[0m \u001b[1m0s\u001b[0m 2ms/step - accuracy: 0.8609 - loss: 0.3405 - val_accuracy: 0.8519 - val_loss: 0.3594\n",
      "Epoch 27/100\n",
      "\u001b[1m200/200\u001b[0m \u001b[32m━━━━━━━━━━━━━━━━━━━━\u001b[0m\u001b[37m\u001b[0m \u001b[1m0s\u001b[0m 2ms/step - accuracy: 0.8617 - loss: 0.3403 - val_accuracy: 0.8519 - val_loss: 0.3602\n",
      "Epoch 28/100\n",
      "\u001b[1m200/200\u001b[0m \u001b[32m━━━━━━━━━━━━━━━━━━━━\u001b[0m\u001b[37m\u001b[0m \u001b[1m0s\u001b[0m 2ms/step - accuracy: 0.8636 - loss: 0.3391 - val_accuracy: 0.8519 - val_loss: 0.3613\n",
      "Epoch 29/100\n",
      "\u001b[1m200/200\u001b[0m \u001b[32m━━━━━━━━━━━━━━━━━━━━\u001b[0m\u001b[37m\u001b[0m \u001b[1m0s\u001b[0m 2ms/step - accuracy: 0.8630 - loss: 0.3381 - val_accuracy: 0.8531 - val_loss: 0.3599\n",
      "Epoch 30/100\n",
      "\u001b[1m200/200\u001b[0m \u001b[32m━━━━━━━━━━━━━━━━━━━━\u001b[0m\u001b[37m\u001b[0m \u001b[1m1s\u001b[0m 2ms/step - accuracy: 0.8614 - loss: 0.3373 - val_accuracy: 0.8531 - val_loss: 0.3616\n",
      "Epoch 31/100\n",
      "\u001b[1m200/200\u001b[0m \u001b[32m━━━━━━━━━━━━━━━━━━━━\u001b[0m\u001b[37m\u001b[0m \u001b[1m0s\u001b[0m 2ms/step - accuracy: 0.8623 - loss: 0.3372 - val_accuracy: 0.8519 - val_loss: 0.3619\n",
      "Epoch 32/100\n",
      "\u001b[1m200/200\u001b[0m \u001b[32m━━━━━━━━━━━━━━━━━━━━\u001b[0m\u001b[37m\u001b[0m \u001b[1m0s\u001b[0m 2ms/step - accuracy: 0.8606 - loss: 0.3368 - val_accuracy: 0.8525 - val_loss: 0.3601\n",
      "Epoch 33/100\n",
      "\u001b[1m200/200\u001b[0m \u001b[32m━━━━━━━━━━━━━━━━━━━━\u001b[0m\u001b[37m\u001b[0m \u001b[1m0s\u001b[0m 2ms/step - accuracy: 0.8627 - loss: 0.3359 - val_accuracy: 0.8531 - val_loss: 0.3619\n",
      "Epoch 34/100\n",
      "\u001b[1m200/200\u001b[0m \u001b[32m━━━━━━━━━━━━━━━━━━━━\u001b[0m\u001b[37m\u001b[0m \u001b[1m0s\u001b[0m 2ms/step - accuracy: 0.8620 - loss: 0.3357 - val_accuracy: 0.8531 - val_loss: 0.3607\n",
      "Epoch 35/100\n",
      "\u001b[1m200/200\u001b[0m \u001b[32m━━━━━━━━━━━━━━━━━━━━\u001b[0m\u001b[37m\u001b[0m \u001b[1m1s\u001b[0m 2ms/step - accuracy: 0.8616 - loss: 0.3348 - val_accuracy: 0.8544 - val_loss: 0.3616\n",
      "Epoch 36/100\n",
      "\u001b[1m200/200\u001b[0m \u001b[32m━━━━━━━━━━━━━━━━━━━━\u001b[0m\u001b[37m\u001b[0m \u001b[1m0s\u001b[0m 2ms/step - accuracy: 0.8636 - loss: 0.3342 - val_accuracy: 0.8512 - val_loss: 0.3628\n",
      "Epoch 37/100\n",
      "\u001b[1m200/200\u001b[0m \u001b[32m━━━━━━━━━━━━━━━━━━━━\u001b[0m\u001b[37m\u001b[0m \u001b[1m0s\u001b[0m 2ms/step - accuracy: 0.8639 - loss: 0.3338 - val_accuracy: 0.8531 - val_loss: 0.3619\n",
      "Epoch 38/100\n",
      "\u001b[1m200/200\u001b[0m \u001b[32m━━━━━━━━━━━━━━━━━━━━\u001b[0m\u001b[37m\u001b[0m \u001b[1m0s\u001b[0m 2ms/step - accuracy: 0.8639 - loss: 0.3333 - val_accuracy: 0.8550 - val_loss: 0.3602\n",
      "Epoch 39/100\n",
      "\u001b[1m200/200\u001b[0m \u001b[32m━━━━━━━━━━━━━━━━━━━━\u001b[0m\u001b[37m\u001b[0m \u001b[1m0s\u001b[0m 2ms/step - accuracy: 0.8637 - loss: 0.3325 - val_accuracy: 0.8525 - val_loss: 0.3617\n",
      "Epoch 40/100\n",
      "\u001b[1m200/200\u001b[0m \u001b[32m━━━━━━━━━━━━━━━━━━━━\u001b[0m\u001b[37m\u001b[0m \u001b[1m1s\u001b[0m 2ms/step - accuracy: 0.8630 - loss: 0.3332 - val_accuracy: 0.8544 - val_loss: 0.3607\n",
      "Epoch 41/100\n",
      "\u001b[1m200/200\u001b[0m \u001b[32m━━━━━━━━━━━━━━━━━━━━\u001b[0m\u001b[37m\u001b[0m \u001b[1m0s\u001b[0m 2ms/step - accuracy: 0.8631 - loss: 0.3324 - val_accuracy: 0.8525 - val_loss: 0.3619\n",
      "Epoch 42/100\n",
      "\u001b[1m200/200\u001b[0m \u001b[32m━━━━━━━━━━━━━━━━━━━━\u001b[0m\u001b[37m\u001b[0m \u001b[1m0s\u001b[0m 2ms/step - accuracy: 0.8633 - loss: 0.3311 - val_accuracy: 0.8537 - val_loss: 0.3621\n",
      "Epoch 43/100\n",
      "\u001b[1m200/200\u001b[0m \u001b[32m━━━━━━━━━━━━━━━━━━━━\u001b[0m\u001b[37m\u001b[0m \u001b[1m0s\u001b[0m 2ms/step - accuracy: 0.8633 - loss: 0.3313 - val_accuracy: 0.8531 - val_loss: 0.3618\n",
      "Epoch 44/100\n",
      "\u001b[1m200/200\u001b[0m \u001b[32m━━━━━━━━━━━━━━━━━━━━\u001b[0m\u001b[37m\u001b[0m \u001b[1m0s\u001b[0m 2ms/step - accuracy: 0.8625 - loss: 0.3308 - val_accuracy: 0.8537 - val_loss: 0.3633\n",
      "Epoch 45/100\n",
      "\u001b[1m200/200\u001b[0m \u001b[32m━━━━━━━━━━━━━━━━━━━━\u001b[0m\u001b[37m\u001b[0m \u001b[1m1s\u001b[0m 2ms/step - accuracy: 0.8634 - loss: 0.3303 - val_accuracy: 0.8537 - val_loss: 0.3622\n",
      "Epoch 46/100\n",
      "\u001b[1m200/200\u001b[0m \u001b[32m━━━━━━━━━━━━━━━━━━━━\u001b[0m\u001b[37m\u001b[0m \u001b[1m0s\u001b[0m 2ms/step - accuracy: 0.8620 - loss: 0.3298 - val_accuracy: 0.8531 - val_loss: 0.3650\n",
      "Epoch 47/100\n",
      "\u001b[1m200/200\u001b[0m \u001b[32m━━━━━━━━━━━━━━━━━━━━\u001b[0m\u001b[37m\u001b[0m \u001b[1m0s\u001b[0m 2ms/step - accuracy: 0.8633 - loss: 0.3298 - val_accuracy: 0.8519 - val_loss: 0.3631\n",
      "Epoch 48/100\n",
      "\u001b[1m200/200\u001b[0m \u001b[32m━━━━━━━━━━━━━━━━━━━━\u001b[0m\u001b[37m\u001b[0m \u001b[1m0s\u001b[0m 2ms/step - accuracy: 0.8655 - loss: 0.3297 - val_accuracy: 0.8525 - val_loss: 0.3619\n",
      "Epoch 49/100\n",
      "\u001b[1m200/200\u001b[0m \u001b[32m━━━━━━━━━━━━━━━━━━━━\u001b[0m\u001b[37m\u001b[0m \u001b[1m0s\u001b[0m 2ms/step - accuracy: 0.8628 - loss: 0.3295 - val_accuracy: 0.8537 - val_loss: 0.3609\n",
      "Epoch 50/100\n",
      "\u001b[1m200/200\u001b[0m \u001b[32m━━━━━━━━━━━━━━━━━━━━\u001b[0m\u001b[37m\u001b[0m \u001b[1m0s\u001b[0m 2ms/step - accuracy: 0.8634 - loss: 0.3291 - val_accuracy: 0.8544 - val_loss: 0.3618\n",
      "Epoch 51/100\n",
      "\u001b[1m200/200\u001b[0m \u001b[32m━━━━━━━━━━━━━━━━━━━━\u001b[0m\u001b[37m\u001b[0m \u001b[1m0s\u001b[0m 2ms/step - accuracy: 0.8627 - loss: 0.3290 - val_accuracy: 0.8562 - val_loss: 0.3616\n",
      "Epoch 52/100\n",
      "\u001b[1m200/200\u001b[0m \u001b[32m━━━━━━━━━━━━━━━━━━━━\u001b[0m\u001b[37m\u001b[0m \u001b[1m1s\u001b[0m 2ms/step - accuracy: 0.8644 - loss: 0.3277 - val_accuracy: 0.8494 - val_loss: 0.3649\n",
      "Epoch 53/100\n",
      "\u001b[1m200/200\u001b[0m \u001b[32m━━━━━━━━━━━━━━━━━━━━\u001b[0m\u001b[37m\u001b[0m \u001b[1m0s\u001b[0m 2ms/step - accuracy: 0.8634 - loss: 0.3283 - val_accuracy: 0.8544 - val_loss: 0.3622\n",
      "Epoch 54/100\n",
      "\u001b[1m200/200\u001b[0m \u001b[32m━━━━━━━━━━━━━━━━━━━━\u001b[0m\u001b[37m\u001b[0m \u001b[1m0s\u001b[0m 2ms/step - accuracy: 0.8637 - loss: 0.3276 - val_accuracy: 0.8506 - val_loss: 0.3660\n",
      "Epoch 55/100\n",
      "\u001b[1m200/200\u001b[0m \u001b[32m━━━━━━━━━━━━━━━━━━━━\u001b[0m\u001b[37m\u001b[0m \u001b[1m0s\u001b[0m 2ms/step - accuracy: 0.8644 - loss: 0.3279 - val_accuracy: 0.8556 - val_loss: 0.3639\n",
      "Epoch 56/100\n",
      "\u001b[1m200/200\u001b[0m \u001b[32m━━━━━━━━━━━━━━━━━━━━\u001b[0m\u001b[37m\u001b[0m \u001b[1m0s\u001b[0m 2ms/step - accuracy: 0.8631 - loss: 0.3281 - val_accuracy: 0.8531 - val_loss: 0.3614\n",
      "Epoch 57/100\n",
      "\u001b[1m200/200\u001b[0m \u001b[32m━━━━━━━━━━━━━━━━━━━━\u001b[0m\u001b[37m\u001b[0m \u001b[1m0s\u001b[0m 2ms/step - accuracy: 0.8634 - loss: 0.3267 - val_accuracy: 0.8531 - val_loss: 0.3650\n",
      "Epoch 58/100\n",
      "\u001b[1m200/200\u001b[0m \u001b[32m━━━━━━━━━━━━━━━━━━━━\u001b[0m\u001b[37m\u001b[0m \u001b[1m1s\u001b[0m 2ms/step - accuracy: 0.8641 - loss: 0.3276 - val_accuracy: 0.8544 - val_loss: 0.3619\n",
      "Epoch 59/100\n",
      "\u001b[1m200/200\u001b[0m \u001b[32m━━━━━━━━━━━━━━━━━━━━\u001b[0m\u001b[37m\u001b[0m \u001b[1m1s\u001b[0m 2ms/step - accuracy: 0.8642 - loss: 0.3264 - val_accuracy: 0.8537 - val_loss: 0.3623\n",
      "Epoch 60/100\n",
      "\u001b[1m200/200\u001b[0m \u001b[32m━━━━━━━━━━━━━━━━━━━━\u001b[0m\u001b[37m\u001b[0m \u001b[1m1s\u001b[0m 2ms/step - accuracy: 0.8641 - loss: 0.3268 - val_accuracy: 0.8550 - val_loss: 0.3622\n",
      "Epoch 61/100\n",
      "\u001b[1m200/200\u001b[0m \u001b[32m━━━━━━━━━━━━━━━━━━━━\u001b[0m\u001b[37m\u001b[0m \u001b[1m0s\u001b[0m 2ms/step - accuracy: 0.8644 - loss: 0.3264 - val_accuracy: 0.8575 - val_loss: 0.3609\n",
      "Epoch 62/100\n",
      "\u001b[1m200/200\u001b[0m \u001b[32m━━━━━━━━━━━━━━━━━━━━\u001b[0m\u001b[37m\u001b[0m \u001b[1m0s\u001b[0m 2ms/step - accuracy: 0.8658 - loss: 0.3269 - val_accuracy: 0.8581 - val_loss: 0.3620\n",
      "Epoch 63/100\n",
      "\u001b[1m200/200\u001b[0m \u001b[32m━━━━━━━━━━━━━━━━━━━━\u001b[0m\u001b[37m\u001b[0m \u001b[1m0s\u001b[0m 2ms/step - accuracy: 0.8658 - loss: 0.3261 - val_accuracy: 0.8556 - val_loss: 0.3635\n",
      "Epoch 64/100\n",
      "\u001b[1m200/200\u001b[0m \u001b[32m━━━━━━━━━━━━━━━━━━━━\u001b[0m\u001b[37m\u001b[0m \u001b[1m0s\u001b[0m 2ms/step - accuracy: 0.8658 - loss: 0.3266 - val_accuracy: 0.8562 - val_loss: 0.3622\n",
      "Epoch 65/100\n",
      "\u001b[1m200/200\u001b[0m \u001b[32m━━━━━━━━━━━━━━━━━━━━\u001b[0m\u001b[37m\u001b[0m \u001b[1m0s\u001b[0m 2ms/step - accuracy: 0.8656 - loss: 0.3263 - val_accuracy: 0.8550 - val_loss: 0.3625\n",
      "Epoch 66/100\n",
      "\u001b[1m200/200\u001b[0m \u001b[32m━━━━━━━━━━━━━━━━━━━━\u001b[0m\u001b[37m\u001b[0m \u001b[1m0s\u001b[0m 2ms/step - accuracy: 0.8637 - loss: 0.3253 - val_accuracy: 0.8569 - val_loss: 0.3623\n",
      "Epoch 67/100\n",
      "\u001b[1m200/200\u001b[0m \u001b[32m━━━━━━━━━━━━━━━━━━━━\u001b[0m\u001b[37m\u001b[0m \u001b[1m1s\u001b[0m 3ms/step - accuracy: 0.8650 - loss: 0.3263 - val_accuracy: 0.8575 - val_loss: 0.3619\n",
      "Epoch 68/100\n",
      "\u001b[1m200/200\u001b[0m \u001b[32m━━━━━━━━━━━━━━━━━━━━\u001b[0m\u001b[37m\u001b[0m \u001b[1m0s\u001b[0m 2ms/step - accuracy: 0.8662 - loss: 0.3254 - val_accuracy: 0.8550 - val_loss: 0.3617\n",
      "Epoch 69/100\n",
      "\u001b[1m200/200\u001b[0m \u001b[32m━━━━━━━━━━━━━━━━━━━━\u001b[0m\u001b[37m\u001b[0m \u001b[1m0s\u001b[0m 2ms/step - accuracy: 0.8653 - loss: 0.3256 - val_accuracy: 0.8575 - val_loss: 0.3612\n",
      "Epoch 70/100\n",
      "\u001b[1m200/200\u001b[0m \u001b[32m━━━━━━━━━━━━━━━━━━━━\u001b[0m\u001b[37m\u001b[0m \u001b[1m0s\u001b[0m 2ms/step - accuracy: 0.8655 - loss: 0.3252 - val_accuracy: 0.8581 - val_loss: 0.3644\n",
      "Epoch 71/100\n",
      "\u001b[1m200/200\u001b[0m \u001b[32m━━━━━━━━━━━━━━━━━━━━\u001b[0m\u001b[37m\u001b[0m \u001b[1m0s\u001b[0m 2ms/step - accuracy: 0.8655 - loss: 0.3250 - val_accuracy: 0.8562 - val_loss: 0.3608\n",
      "Epoch 72/100\n",
      "\u001b[1m200/200\u001b[0m \u001b[32m━━━━━━━━━━━━━━━━━━━━\u001b[0m\u001b[37m\u001b[0m \u001b[1m0s\u001b[0m 2ms/step - accuracy: 0.8667 - loss: 0.3252 - val_accuracy: 0.8550 - val_loss: 0.3615\n",
      "Epoch 73/100\n",
      "\u001b[1m200/200\u001b[0m \u001b[32m━━━━━━━━━━━━━━━━━━━━\u001b[0m\u001b[37m\u001b[0m \u001b[1m0s\u001b[0m 2ms/step - accuracy: 0.8662 - loss: 0.3248 - val_accuracy: 0.8556 - val_loss: 0.3633\n",
      "Epoch 74/100\n",
      "\u001b[1m200/200\u001b[0m \u001b[32m━━━━━━━━━━━━━━━━━━━━\u001b[0m\u001b[37m\u001b[0m \u001b[1m0s\u001b[0m 2ms/step - accuracy: 0.8653 - loss: 0.3249 - val_accuracy: 0.8569 - val_loss: 0.3620\n",
      "Epoch 75/100\n",
      "\u001b[1m200/200\u001b[0m \u001b[32m━━━━━━━━━━━━━━━━━━━━\u001b[0m\u001b[37m\u001b[0m \u001b[1m0s\u001b[0m 2ms/step - accuracy: 0.8644 - loss: 0.3250 - val_accuracy: 0.8562 - val_loss: 0.3627\n",
      "Epoch 76/100\n",
      "\u001b[1m200/200\u001b[0m \u001b[32m━━━━━━━━━━━━━━━━━━━━\u001b[0m\u001b[37m\u001b[0m \u001b[1m0s\u001b[0m 2ms/step - accuracy: 0.8661 - loss: 0.3253 - val_accuracy: 0.8562 - val_loss: 0.3633\n",
      "Epoch 77/100\n",
      "\u001b[1m200/200\u001b[0m \u001b[32m━━━━━━━━━━━━━━━━━━━━\u001b[0m\u001b[37m\u001b[0m \u001b[1m1s\u001b[0m 3ms/step - accuracy: 0.8658 - loss: 0.3246 - val_accuracy: 0.8531 - val_loss: 0.3633\n",
      "Epoch 78/100\n",
      "\u001b[1m200/200\u001b[0m \u001b[32m━━━━━━━━━━━━━━━━━━━━\u001b[0m\u001b[37m\u001b[0m \u001b[1m1s\u001b[0m 2ms/step - accuracy: 0.8658 - loss: 0.3243 - val_accuracy: 0.8556 - val_loss: 0.3618\n",
      "Epoch 79/100\n",
      "\u001b[1m200/200\u001b[0m \u001b[32m━━━━━━━━━━━━━━━━━━━━\u001b[0m\u001b[37m\u001b[0m \u001b[1m0s\u001b[0m 2ms/step - accuracy: 0.8647 - loss: 0.3242 - val_accuracy: 0.8544 - val_loss: 0.3627\n",
      "Epoch 80/100\n",
      "\u001b[1m200/200\u001b[0m \u001b[32m━━━━━━━━━━━━━━━━━━━━\u001b[0m\u001b[37m\u001b[0m \u001b[1m0s\u001b[0m 2ms/step - accuracy: 0.8656 - loss: 0.3240 - val_accuracy: 0.8562 - val_loss: 0.3640\n",
      "Epoch 81/100\n",
      "\u001b[1m200/200\u001b[0m \u001b[32m━━━━━━━━━━━━━━━━━━━━\u001b[0m\u001b[37m\u001b[0m \u001b[1m0s\u001b[0m 2ms/step - accuracy: 0.8652 - loss: 0.3236 - val_accuracy: 0.8537 - val_loss: 0.3642\n",
      "Epoch 82/100\n",
      "\u001b[1m200/200\u001b[0m \u001b[32m━━━━━━━━━━━━━━━━━━━━\u001b[0m\u001b[37m\u001b[0m \u001b[1m1s\u001b[0m 2ms/step - accuracy: 0.8656 - loss: 0.3233 - val_accuracy: 0.8550 - val_loss: 0.3629\n",
      "Epoch 83/100\n",
      "\u001b[1m200/200\u001b[0m \u001b[32m━━━━━━━━━━━━━━━━━━━━\u001b[0m\u001b[37m\u001b[0m \u001b[1m0s\u001b[0m 2ms/step - accuracy: 0.8653 - loss: 0.3243 - val_accuracy: 0.8531 - val_loss: 0.3634\n",
      "Epoch 84/100\n",
      "\u001b[1m200/200\u001b[0m \u001b[32m━━━━━━━━━━━━━━━━━━━━\u001b[0m\u001b[37m\u001b[0m \u001b[1m0s\u001b[0m 2ms/step - accuracy: 0.8656 - loss: 0.3233 - val_accuracy: 0.8537 - val_loss: 0.3630\n",
      "Epoch 85/100\n",
      "\u001b[1m200/200\u001b[0m \u001b[32m━━━━━━━━━━━━━━━━━━━━\u001b[0m\u001b[37m\u001b[0m \u001b[1m1s\u001b[0m 3ms/step - accuracy: 0.8656 - loss: 0.3238 - val_accuracy: 0.8544 - val_loss: 0.3632\n",
      "Epoch 86/100\n",
      "\u001b[1m200/200\u001b[0m \u001b[32m━━━━━━━━━━━━━━━━━━━━\u001b[0m\u001b[37m\u001b[0m \u001b[1m0s\u001b[0m 2ms/step - accuracy: 0.8648 - loss: 0.3228 - val_accuracy: 0.8550 - val_loss: 0.3630\n",
      "Epoch 87/100\n",
      "\u001b[1m200/200\u001b[0m \u001b[32m━━━━━━━━━━━━━━━━━━━━\u001b[0m\u001b[37m\u001b[0m \u001b[1m0s\u001b[0m 2ms/step - accuracy: 0.8655 - loss: 0.3238 - val_accuracy: 0.8525 - val_loss: 0.3641\n",
      "Epoch 88/100\n",
      "\u001b[1m200/200\u001b[0m \u001b[32m━━━━━━━━━━━━━━━━━━━━\u001b[0m\u001b[37m\u001b[0m \u001b[1m1s\u001b[0m 2ms/step - accuracy: 0.8664 - loss: 0.3229 - val_accuracy: 0.8556 - val_loss: 0.3631\n",
      "Epoch 89/100\n",
      "\u001b[1m200/200\u001b[0m \u001b[32m━━━━━━━━━━━━━━━━━━━━\u001b[0m\u001b[37m\u001b[0m \u001b[1m1s\u001b[0m 2ms/step - accuracy: 0.8659 - loss: 0.3223 - val_accuracy: 0.8525 - val_loss: 0.3629\n",
      "Epoch 90/100\n",
      "\u001b[1m200/200\u001b[0m \u001b[32m━━━━━━━━━━━━━━━━━━━━\u001b[0m\u001b[37m\u001b[0m \u001b[1m0s\u001b[0m 2ms/step - accuracy: 0.8669 - loss: 0.3226 - val_accuracy: 0.8537 - val_loss: 0.3633\n",
      "Epoch 91/100\n",
      "\u001b[1m200/200\u001b[0m \u001b[32m━━━━━━━━━━━━━━━━━━━━\u001b[0m\u001b[37m\u001b[0m \u001b[1m0s\u001b[0m 2ms/step - accuracy: 0.8662 - loss: 0.3234 - val_accuracy: 0.8587 - val_loss: 0.3652\n",
      "Epoch 92/100\n",
      "\u001b[1m200/200\u001b[0m \u001b[32m━━━━━━━━━━━━━━━━━━━━\u001b[0m\u001b[37m\u001b[0m \u001b[1m0s\u001b[0m 2ms/step - accuracy: 0.8669 - loss: 0.3222 - val_accuracy: 0.8537 - val_loss: 0.3634\n",
      "Epoch 93/100\n",
      "\u001b[1m200/200\u001b[0m \u001b[32m━━━━━━━━━━━━━━━━━━━━\u001b[0m\u001b[37m\u001b[0m \u001b[1m1s\u001b[0m 3ms/step - accuracy: 0.8670 - loss: 0.3223 - val_accuracy: 0.8519 - val_loss: 0.3638\n",
      "Epoch 94/100\n",
      "\u001b[1m200/200\u001b[0m \u001b[32m━━━━━━━━━━━━━━━━━━━━\u001b[0m\u001b[37m\u001b[0m \u001b[1m1s\u001b[0m 2ms/step - accuracy: 0.8656 - loss: 0.3231 - val_accuracy: 0.8537 - val_loss: 0.3635\n",
      "Epoch 95/100\n",
      "\u001b[1m200/200\u001b[0m \u001b[32m━━━━━━━━━━━━━━━━━━━━\u001b[0m\u001b[37m\u001b[0m \u001b[1m0s\u001b[0m 2ms/step - accuracy: 0.8667 - loss: 0.3222 - val_accuracy: 0.8531 - val_loss: 0.3636\n",
      "Epoch 96/100\n",
      "\u001b[1m200/200\u001b[0m \u001b[32m━━━━━━━━━━━━━━━━━━━━\u001b[0m\u001b[37m\u001b[0m \u001b[1m0s\u001b[0m 2ms/step - accuracy: 0.8664 - loss: 0.3227 - val_accuracy: 0.8544 - val_loss: 0.3642\n",
      "Epoch 97/100\n",
      "\u001b[1m200/200\u001b[0m \u001b[32m━━━━━━━━━━━━━━━━━━━━\u001b[0m\u001b[37m\u001b[0m \u001b[1m0s\u001b[0m 2ms/step - accuracy: 0.8648 - loss: 0.3222 - val_accuracy: 0.8537 - val_loss: 0.3642\n",
      "Epoch 98/100\n",
      "\u001b[1m200/200\u001b[0m \u001b[32m━━━━━━━━━━━━━━━━━━━━\u001b[0m\u001b[37m\u001b[0m \u001b[1m1s\u001b[0m 2ms/step - accuracy: 0.8664 - loss: 0.3223 - val_accuracy: 0.8531 - val_loss: 0.3633\n",
      "Epoch 99/100\n",
      "\u001b[1m200/200\u001b[0m \u001b[32m━━━━━━━━━━━━━━━━━━━━\u001b[0m\u001b[37m\u001b[0m \u001b[1m0s\u001b[0m 2ms/step - accuracy: 0.8664 - loss: 0.3222 - val_accuracy: 0.8556 - val_loss: 0.3631\n",
      "Epoch 100/100\n",
      "\u001b[1m200/200\u001b[0m \u001b[32m━━━━━━━━━━━━━━━━━━━━\u001b[0m\u001b[37m\u001b[0m \u001b[1m1s\u001b[0m 2ms/step - accuracy: 0.8659 - loss: 0.3220 - val_accuracy: 0.8531 - val_loss: 0.3630\n"
     ]
    }
   ],
   "source": [
    "history = model.fit(x_train, y_train, epochs=100, validation_split=0.2)"
   ]
  },
  {
   "cell_type": "code",
   "execution_count": 19,
   "id": "35819deb-d1ec-42fd-9e0a-bc52d75b52de",
   "metadata": {
    "trusted": true
   },
   "outputs": [
    {
     "data": {
      "text/plain": [
       "([array([[-2.16673732e-01,  7.94882104e-02,  2.90482074e-01,\n",
       "          -8.36568046e-03, -8.48680735e-02, -1.67677961e-02,\n",
       "           7.36418739e-02, -6.87052086e-02, -9.04099829e-03,\n",
       "          -9.84754488e-02],\n",
       "         [-4.05567616e-01, -4.01243530e-02,  2.53146410e-01,\n",
       "          -1.73101738e-01, -1.26513350e+00,  7.29625821e-02,\n",
       "          -4.31352794e-01,  4.60850090e-01, -1.85838610e-01,\n",
       "          -8.08108822e-02],\n",
       "         [ 3.96164238e-01,  3.64874899e-01, -2.03901514e-01,\n",
       "           1.96692303e-01,  8.40579644e-02,  1.08821809e-01,\n",
       "           2.25395337e-01,  1.92834944e-01, -6.52193790e-03,\n",
       "           6.19850874e-01],\n",
       "         [ 3.95954311e-01,  5.22172153e-01, -1.92673594e-01,\n",
       "          -4.24782306e-01, -7.88006783e-01, -3.03818993e-02,\n",
       "          -3.79489243e-01, -4.08325583e-01,  8.70932519e-01,\n",
       "          -6.66373253e-01],\n",
       "         [ 3.78715515e-01,  1.57635570e-01, -4.23468798e-01,\n",
       "          -5.26270390e-01, -1.11745752e-01, -6.72478080e-02,\n",
       "          -1.52383596e-01, -7.96023086e-02, -2.46713776e-02,\n",
       "           8.75340402e-02],\n",
       "         [ 4.11421925e-01,  2.08047666e-02, -6.88029408e-01,\n",
       "          -5.74068785e-01,  3.98573339e-01,  1.90598130e-01,\n",
       "          -2.36501560e-01, -5.73760420e-02, -8.99965987e-02,\n",
       "           5.21613181e-01],\n",
       "         [ 3.87821078e-01,  4.61477876e-01,  6.80180117e-02,\n",
       "          -4.35280204e-01, -3.65194470e-01,  9.57624018e-01,\n",
       "           3.44378173e-01,  4.97197837e-01, -3.16093713e-01,\n",
       "           1.19296663e-01],\n",
       "         [ 1.40996277e-01,  9.42640454e-02,  4.66732204e-01,\n",
       "          -1.51145563e-04, -1.07486047e-01, -7.36586377e-02,\n",
       "          -7.11211860e-02, -1.35894283e-03, -7.63676092e-02,\n",
       "           2.18735069e-01],\n",
       "         [-4.49225865e-02,  1.04336941e+00,  6.17202044e-01,\n",
       "          -2.08526537e-01, -4.33054715e-02,  1.19645536e-01,\n",
       "          -1.55814499e-01,  2.71576256e-01, -1.31011650e-01,\n",
       "          -4.21861142e-01],\n",
       "         [ 4.93204296e-01, -2.41746649e-01,  1.92338213e-01,\n",
       "          -2.15136349e-01, -1.45677641e-01, -2.82545928e-02,\n",
       "           8.96696150e-02, -7.59001523e-02,  5.20452559e-02,\n",
       "           2.87510633e-01]], dtype=float32),\n",
       "  array([-0.374515  , -0.18425451,  0.04022503, -0.17743067,  0.15470655,\n",
       "         -0.6671562 ,  0.6890206 ,  0.5246848 , -0.06107843, -0.01382373],\n",
       "        dtype=float32)],\n",
       " [array([[ 5.54476500e-01, -1.06110677e-01,  3.48492652e-01,\n",
       "          -4.42031443e-01,  5.70781469e-01,  6.83545828e-01,\n",
       "          -5.03201604e-01, -1.63764611e-01,  2.30908990e-01,\n",
       "           2.00425491e-01],\n",
       "         [-1.05914950e+00,  3.48583728e-01, -2.83808380e-01,\n",
       "          -3.09995353e-01, -1.28146160e+00, -3.29508215e-01,\n",
       "          -1.28195643e-01,  9.00479138e-01, -3.48369509e-01,\n",
       "           9.01198909e-02],\n",
       "         [-4.76160757e-02,  8.78932998e-02,  5.82915964e-03,\n",
       "           2.69144028e-01, -6.93455040e-01,  6.58256054e-01,\n",
       "          -5.44468403e-01,  1.58805862e-01,  2.58368969e-01,\n",
       "           1.99841946e-01],\n",
       "         [ 2.15769202e-01, -3.78346980e-01, -5.61676264e-01,\n",
       "           1.23794824e-01,  3.00273836e-01, -3.34135205e-01,\n",
       "           2.02485606e-01,  3.87227982e-01,  2.21897997e-02,\n",
       "          -1.12328875e+00],\n",
       "         [-1.37436822e-01,  6.28529251e-01, -6.70978278e-02,\n",
       "          -4.26794924e-02, -4.47601452e-02,  7.33529478e-02,\n",
       "          -6.94783330e-01,  1.93685234e-01, -1.28834113e-01,\n",
       "          -2.74136484e-01],\n",
       "         [ 3.96801680e-01, -6.42754138e-01,  8.31407011e-01,\n",
       "           1.09100616e+00,  2.11252615e-01, -1.73429579e-01,\n",
       "           2.83262968e-01, -5.43620646e-01, -5.83410978e-01,\n",
       "          -2.15182841e-01],\n",
       "         [-2.38103226e-01,  3.32881510e-01,  1.22430630e-01,\n",
       "           4.83857393e-01, -5.51143335e-03, -2.91994829e-02,\n",
       "           5.10719061e-01,  3.59707594e-01,  7.11031139e-01,\n",
       "          -1.27471000e-01],\n",
       "         [ 3.56746435e-01,  6.56139135e-01, -2.51494437e-01,\n",
       "           4.88149583e-01, -8.35243285e-01, -2.42582604e-01,\n",
       "           3.91329348e-01,  5.67862570e-01,  4.69909996e-01,\n",
       "           1.63338557e-01],\n",
       "         [ 3.36586207e-01, -5.95656671e-02, -2.60113448e-01,\n",
       "           5.22092171e-02, -7.73493230e-01, -6.68959975e-01,\n",
       "          -2.38431305e-01, -2.52322435e-01, -5.25166154e-01,\n",
       "           4.61183548e-01],\n",
       "         [ 2.22939193e-01,  4.22989242e-02,  9.88739133e-02,\n",
       "           8.27524215e-02, -3.44474276e-04, -1.32022873e-01,\n",
       "          -1.50256544e-01, -7.91473806e-01, -5.57847582e-02,\n",
       "           7.51846135e-01]], dtype=float32),\n",
       "  array([-0.23442058,  0.09698821, -0.39753005, -0.01971596, -0.0100933 ,\n",
       "         -0.05146891,  0.28456753,  0.27857915,  0.37922677, -0.6207278 ],\n",
       "        dtype=float32)])"
      ]
     },
     "execution_count": 19,
     "metadata": {},
     "output_type": "execute_result"
    }
   ],
   "source": [
    "model.layers[0].get_weights(), model.layers[1].get_weights()"
   ]
  },
  {
   "cell_type": "code",
   "execution_count": 20,
   "id": "4fd62964-74b7-4b1d-b9ed-4c79cc7d3b5f",
   "metadata": {
    "trusted": true
   },
   "outputs": [
    {
     "name": "stdout",
     "output_type": "stream",
     "text": [
      "\u001b[1m250/250\u001b[0m \u001b[32m━━━━━━━━━━━━━━━━━━━━\u001b[0m\u001b[37m\u001b[0m \u001b[1m0s\u001b[0m 1ms/step\n",
      "\u001b[1m63/63\u001b[0m \u001b[32m━━━━━━━━━━━━━━━━━━━━\u001b[0m\u001b[37m\u001b[0m \u001b[1m0s\u001b[0m 2ms/step\n"
     ]
    }
   ],
   "source": [
    "y_train_pred = model.predict(x_train)\n",
    "y_test_pred = model.predict(x_test)"
   ]
  },
  {
   "cell_type": "code",
   "execution_count": 21,
   "id": "11d80050-96f8-4eb3-b0ff-b67ec79ea079",
   "metadata": {
    "trusted": true
   },
   "outputs": [
    {
     "data": {
      "text/plain": [
       "(array([[0],\n",
       "        [0],\n",
       "        [0],\n",
       "        ...,\n",
       "        [0],\n",
       "        [0],\n",
       "        [1]], shape=(8000, 1)),\n",
       " array([[0],\n",
       "        [0],\n",
       "        [0],\n",
       "        ...,\n",
       "        [1],\n",
       "        [0],\n",
       "        [0]], shape=(2000, 1)))"
      ]
     },
     "execution_count": 21,
     "metadata": {},
     "output_type": "execute_result"
    }
   ],
   "source": [
    "y_train_pred = np.where(y_train_pred>0.5,1,0)\n",
    "\n",
    "y_test_pred = np.where(y_test_pred>0.5,1,0)\n",
    "\n",
    "y_train_pred, y_test_pred"
   ]
  },
  {
   "cell_type": "code",
   "execution_count": 22,
   "id": "3b3db894-90dc-4bb4-81b1-5090ab83be40",
   "metadata": {
    "trusted": true
   },
   "outputs": [],
   "source": [
    "from sklearn.metrics import accuracy_score"
   ]
  },
  {
   "cell_type": "code",
   "execution_count": 23,
   "id": "ea92db2f-4269-4d06-9573-b7d2ee600754",
   "metadata": {
    "trusted": true
   },
   "outputs": [
    {
     "data": {
      "text/plain": [
       "(0.866125, 0.8655)"
      ]
     },
     "execution_count": 23,
     "metadata": {},
     "output_type": "execute_result"
    }
   ],
   "source": [
    "accuracy_score(y_train, y_train_pred), accuracy_score(y_test, y_test_pred)"
   ]
  },
  {
   "cell_type": "code",
   "execution_count": 24,
   "id": "b506201d-2d9a-46e3-ba62-23c2d86d97c2",
   "metadata": {
    "trusted": true
   },
   "outputs": [],
   "source": [
    "import matplotlib.pyplot as plt"
   ]
  },
  {
   "cell_type": "code",
   "execution_count": 25,
   "id": "5728ce1b-e808-4e25-8ef2-160802a28aa0",
   "metadata": {
    "trusted": true
   },
   "outputs": [
    {
     "data": {
      "text/plain": [
       "<keras.src.callbacks.history.History at 0x272a453e410>"
      ]
     },
     "execution_count": 25,
     "metadata": {},
     "output_type": "execute_result"
    }
   ],
   "source": [
    "history"
   ]
  },
  {
   "cell_type": "code",
   "execution_count": 26,
   "id": "110fc2fa-d2bf-41df-bcb6-680751b2739b",
   "metadata": {
    "trusted": true
   },
   "outputs": [
    {
     "data": {
      "text/plain": [
       "{'accuracy': [0.7760937213897705,\n",
       "  0.7990624904632568,\n",
       "  0.817187488079071,\n",
       "  0.8326562643051147,\n",
       "  0.8465625047683716,\n",
       "  0.854687511920929,\n",
       "  0.8575000166893005,\n",
       "  0.8575000166893005,\n",
       "  0.8568750023841858,\n",
       "  0.8571875095367432,\n",
       "  0.8557812571525574,\n",
       "  0.8568750023841858,\n",
       "  0.8575000166893005,\n",
       "  0.8576562404632568,\n",
       "  0.8587499856948853,\n",
       "  0.8596875071525574,\n",
       "  0.8592187762260437,\n",
       "  0.860156238079071,\n",
       "  0.8610937595367432,\n",
       "  0.8617187738418579,\n",
       "  0.8615624904632568,\n",
       "  0.8606250286102295,\n",
       "  0.8623437285423279,\n",
       "  0.8626562356948853,\n",
       "  0.8617187738418579,\n",
       "  0.8609374761581421,\n",
       "  0.8617187738418579,\n",
       "  0.8635937571525574,\n",
       "  0.8629687428474426,\n",
       "  0.8614062666893005,\n",
       "  0.8623437285423279,\n",
       "  0.8606250286102295,\n",
       "  0.8626562356948853,\n",
       "  0.8620312213897705,\n",
       "  0.8615624904632568,\n",
       "  0.8635937571525574,\n",
       "  0.8639062643051147,\n",
       "  0.8639062643051147,\n",
       "  0.8637499809265137,\n",
       "  0.8629687428474426,\n",
       "  0.8631250262260437,\n",
       "  0.86328125,\n",
       "  0.86328125,\n",
       "  0.862500011920929,\n",
       "  0.8634374737739563,\n",
       "  0.8620312213897705,\n",
       "  0.86328125,\n",
       "  0.8654687404632568,\n",
       "  0.8628125190734863,\n",
       "  0.8634374737739563,\n",
       "  0.8626562356948853,\n",
       "  0.8643749952316284,\n",
       "  0.8634374737739563,\n",
       "  0.8637499809265137,\n",
       "  0.8643749952316284,\n",
       "  0.8631250262260437,\n",
       "  0.8634374737739563,\n",
       "  0.864062488079071,\n",
       "  0.8642187714576721,\n",
       "  0.864062488079071,\n",
       "  0.8643749952316284,\n",
       "  0.8657812476158142,\n",
       "  0.8657812476158142,\n",
       "  0.8657812476158142,\n",
       "  0.8656250238418579,\n",
       "  0.8637499809265137,\n",
       "  0.8650000095367432,\n",
       "  0.8662499785423279,\n",
       "  0.8653125166893005,\n",
       "  0.8654687404632568,\n",
       "  0.8654687404632568,\n",
       "  0.8667187690734863,\n",
       "  0.8662499785423279,\n",
       "  0.8653125166893005,\n",
       "  0.8643749952316284,\n",
       "  0.8660937547683716,\n",
       "  0.8657812476158142,\n",
       "  0.8657812476158142,\n",
       "  0.8646875023841858,\n",
       "  0.8656250238418579,\n",
       "  0.8651562333106995,\n",
       "  0.8656250238418579,\n",
       "  0.8653125166893005,\n",
       "  0.8656250238418579,\n",
       "  0.8656250238418579,\n",
       "  0.8648437261581421,\n",
       "  0.8654687404632568,\n",
       "  0.866406261920929,\n",
       "  0.8659374713897705,\n",
       "  0.8668749928474426,\n",
       "  0.8662499785423279,\n",
       "  0.8668749928474426,\n",
       "  0.8670312762260437,\n",
       "  0.8656250238418579,\n",
       "  0.8667187690734863,\n",
       "  0.866406261920929,\n",
       "  0.8648437261581421,\n",
       "  0.866406261920929,\n",
       "  0.866406261920929,\n",
       "  0.8659374713897705],\n",
       " 'loss': [0.5471289157867432,\n",
       "  0.4489764869213104,\n",
       "  0.4293658435344696,\n",
       "  0.41212040185928345,\n",
       "  0.3923018276691437,\n",
       "  0.37523218989372253,\n",
       "  0.3669244647026062,\n",
       "  0.362303227186203,\n",
       "  0.35858508944511414,\n",
       "  0.35572993755340576,\n",
       "  0.3539693057537079,\n",
       "  0.3524501323699951,\n",
       "  0.35050123929977417,\n",
       "  0.3499135971069336,\n",
       "  0.3487950265407562,\n",
       "  0.3478417992591858,\n",
       "  0.34701523184776306,\n",
       "  0.34649181365966797,\n",
       "  0.3447798192501068,\n",
       "  0.3449382781982422,\n",
       "  0.3436948359012604,\n",
       "  0.34399428963661194,\n",
       "  0.34249019622802734,\n",
       "  0.3421991467475891,\n",
       "  0.34105992317199707,\n",
       "  0.3404650092124939,\n",
       "  0.3403174877166748,\n",
       "  0.3390718102455139,\n",
       "  0.3381182849407196,\n",
       "  0.33731839060783386,\n",
       "  0.337184876203537,\n",
       "  0.3368268609046936,\n",
       "  0.3359020948410034,\n",
       "  0.3356967270374298,\n",
       "  0.33475032448768616,\n",
       "  0.33420810103416443,\n",
       "  0.3337503671646118,\n",
       "  0.333276629447937,\n",
       "  0.33249691128730774,\n",
       "  0.33322960138320923,\n",
       "  0.3323790729045868,\n",
       "  0.3310895264148712,\n",
       "  0.3312666416168213,\n",
       "  0.33084267377853394,\n",
       "  0.3303115963935852,\n",
       "  0.32977309823036194,\n",
       "  0.32980337738990784,\n",
       "  0.32967445254325867,\n",
       "  0.3294810950756073,\n",
       "  0.32910865545272827,\n",
       "  0.328975647687912,\n",
       "  0.32772740721702576,\n",
       "  0.3283064365386963,\n",
       "  0.3275594711303711,\n",
       "  0.32790452241897583,\n",
       "  0.32805168628692627,\n",
       "  0.32668042182922363,\n",
       "  0.3275687098503113,\n",
       "  0.32638806104660034,\n",
       "  0.3268142342567444,\n",
       "  0.32636556029319763,\n",
       "  0.32688429951667786,\n",
       "  0.32609474658966064,\n",
       "  0.32660210132598877,\n",
       "  0.32628700137138367,\n",
       "  0.32532745599746704,\n",
       "  0.3262661099433899,\n",
       "  0.3254316747188568,\n",
       "  0.3255566358566284,\n",
       "  0.32519397139549255,\n",
       "  0.3249881863594055,\n",
       "  0.3251710832118988,\n",
       "  0.32475125789642334,\n",
       "  0.3249000608921051,\n",
       "  0.32496169209480286,\n",
       "  0.32525789737701416,\n",
       "  0.3246142864227295,\n",
       "  0.32434749603271484,\n",
       "  0.32421234250068665,\n",
       "  0.3239964246749878,\n",
       "  0.32363057136535645,\n",
       "  0.32334572076797485,\n",
       "  0.3242533504962921,\n",
       "  0.32331550121307373,\n",
       "  0.3238108456134796,\n",
       "  0.3227972090244293,\n",
       "  0.32375794649124146,\n",
       "  0.32288551330566406,\n",
       "  0.322340190410614,\n",
       "  0.32257363200187683,\n",
       "  0.3233753442764282,\n",
       "  0.3221794068813324,\n",
       "  0.3223438560962677,\n",
       "  0.32305169105529785,\n",
       "  0.3222188651561737,\n",
       "  0.3227127194404602,\n",
       "  0.3221730887889862,\n",
       "  0.32231804728507996,\n",
       "  0.32215309143066406,\n",
       "  0.32198336720466614],\n",
       " 'val_accuracy': [0.7987499833106995,\n",
       "  0.8162500262260437,\n",
       "  0.8331249952316284,\n",
       "  0.8431249856948853,\n",
       "  0.84375,\n",
       "  0.8475000262260437,\n",
       "  0.8475000262260437,\n",
       "  0.8500000238418579,\n",
       "  0.8506249785423279,\n",
       "  0.8443750143051147,\n",
       "  0.8506249785423279,\n",
       "  0.8493750095367432,\n",
       "  0.8462499976158142,\n",
       "  0.8506249785423279,\n",
       "  0.8506249785423279,\n",
       "  0.8506249785423279,\n",
       "  0.8493750095367432,\n",
       "  0.8531249761581421,\n",
       "  0.8512499928474426,\n",
       "  0.8531249761581421,\n",
       "  0.8500000238418579,\n",
       "  0.8506249785423279,\n",
       "  0.8493750095367432,\n",
       "  0.8487499952316284,\n",
       "  0.8543750047683716,\n",
       "  0.8518750071525574,\n",
       "  0.8518750071525574,\n",
       "  0.8518750071525574,\n",
       "  0.8531249761581421,\n",
       "  0.8531249761581421,\n",
       "  0.8518750071525574,\n",
       "  0.8525000214576721,\n",
       "  0.8531249761581421,\n",
       "  0.8531249761581421,\n",
       "  0.8543750047683716,\n",
       "  0.8512499928474426,\n",
       "  0.8531249761581421,\n",
       "  0.8550000190734863,\n",
       "  0.8525000214576721,\n",
       "  0.8543750047683716,\n",
       "  0.8525000214576721,\n",
       "  0.8537499904632568,\n",
       "  0.8531249761581421,\n",
       "  0.8537499904632568,\n",
       "  0.8537499904632568,\n",
       "  0.8531249761581421,\n",
       "  0.8518750071525574,\n",
       "  0.8525000214576721,\n",
       "  0.8537499904632568,\n",
       "  0.8543750047683716,\n",
       "  0.856249988079071,\n",
       "  0.8493750095367432,\n",
       "  0.8543750047683716,\n",
       "  0.8506249785423279,\n",
       "  0.8556249737739563,\n",
       "  0.8531249761581421,\n",
       "  0.8531249761581421,\n",
       "  0.8543750047683716,\n",
       "  0.8537499904632568,\n",
       "  0.8550000190734863,\n",
       "  0.8575000166893005,\n",
       "  0.8581249713897705,\n",
       "  0.8556249737739563,\n",
       "  0.856249988079071,\n",
       "  0.8550000190734863,\n",
       "  0.8568750023841858,\n",
       "  0.8575000166893005,\n",
       "  0.8550000190734863,\n",
       "  0.8575000166893005,\n",
       "  0.8581249713897705,\n",
       "  0.856249988079071,\n",
       "  0.8550000190734863,\n",
       "  0.8556249737739563,\n",
       "  0.8568750023841858,\n",
       "  0.856249988079071,\n",
       "  0.856249988079071,\n",
       "  0.8531249761581421,\n",
       "  0.8556249737739563,\n",
       "  0.8543750047683716,\n",
       "  0.856249988079071,\n",
       "  0.8537499904632568,\n",
       "  0.8550000190734863,\n",
       "  0.8531249761581421,\n",
       "  0.8537499904632568,\n",
       "  0.8543750047683716,\n",
       "  0.8550000190734863,\n",
       "  0.8525000214576721,\n",
       "  0.8556249737739563,\n",
       "  0.8525000214576721,\n",
       "  0.8537499904632568,\n",
       "  0.8587499856948853,\n",
       "  0.8537499904632568,\n",
       "  0.8518750071525574,\n",
       "  0.8537499904632568,\n",
       "  0.8531249761581421,\n",
       "  0.8543750047683716,\n",
       "  0.8537499904632568,\n",
       "  0.8531249761581421,\n",
       "  0.8556249737739563,\n",
       "  0.8531249761581421],\n",
       " 'val_loss': [0.4483839273452759,\n",
       "  0.4284849464893341,\n",
       "  0.41216930747032166,\n",
       "  0.3997199237346649,\n",
       "  0.3848215341567993,\n",
       "  0.37691009044647217,\n",
       "  0.3719280958175659,\n",
       "  0.3688064515590668,\n",
       "  0.3679850101470947,\n",
       "  0.36659345030784607,\n",
       "  0.36506199836730957,\n",
       "  0.36307692527770996,\n",
       "  0.36189162731170654,\n",
       "  0.3614824712276459,\n",
       "  0.36117225885391235,\n",
       "  0.36291614174842834,\n",
       "  0.36042362451553345,\n",
       "  0.3598680794239044,\n",
       "  0.36171481013298035,\n",
       "  0.35947203636169434,\n",
       "  0.36103683710098267,\n",
       "  0.35985541343688965,\n",
       "  0.3599149286746979,\n",
       "  0.3599132299423218,\n",
       "  0.35913634300231934,\n",
       "  0.35940220952033997,\n",
       "  0.360238254070282,\n",
       "  0.3612755835056305,\n",
       "  0.35992884635925293,\n",
       "  0.36163344979286194,\n",
       "  0.36194679141044617,\n",
       "  0.3601381778717041,\n",
       "  0.3618724048137665,\n",
       "  0.36067965626716614,\n",
       "  0.3616483211517334,\n",
       "  0.36280205845832825,\n",
       "  0.3619254231452942,\n",
       "  0.36022940278053284,\n",
       "  0.36173003911972046,\n",
       "  0.36065003275871277,\n",
       "  0.3618931472301483,\n",
       "  0.36209872364997864,\n",
       "  0.36176615953445435,\n",
       "  0.36325669288635254,\n",
       "  0.3621647357940674,\n",
       "  0.3650432825088501,\n",
       "  0.36307835578918457,\n",
       "  0.36189424991607666,\n",
       "  0.36094048619270325,\n",
       "  0.3617570400238037,\n",
       "  0.36155590415000916,\n",
       "  0.364872545003891,\n",
       "  0.3622407615184784,\n",
       "  0.3660062551498413,\n",
       "  0.36389219760894775,\n",
       "  0.3614178001880646,\n",
       "  0.365018755197525,\n",
       "  0.3618798553943634,\n",
       "  0.36232638359069824,\n",
       "  0.36224231123924255,\n",
       "  0.3609103262424469,\n",
       "  0.36196133494377136,\n",
       "  0.36351534724235535,\n",
       "  0.36215779185295105,\n",
       "  0.36248722672462463,\n",
       "  0.3622891902923584,\n",
       "  0.3619428277015686,\n",
       "  0.361663281917572,\n",
       "  0.36121422052383423,\n",
       "  0.36435067653656006,\n",
       "  0.36081331968307495,\n",
       "  0.36153319478034973,\n",
       "  0.36328694224357605,\n",
       "  0.36197468638420105,\n",
       "  0.36268851161003113,\n",
       "  0.36325469613075256,\n",
       "  0.3632921874523163,\n",
       "  0.36184465885162354,\n",
       "  0.3627219498157501,\n",
       "  0.363981693983078,\n",
       "  0.36416083574295044,\n",
       "  0.36288443207740784,\n",
       "  0.3634260296821594,\n",
       "  0.36301854252815247,\n",
       "  0.3631940484046936,\n",
       "  0.3630375266075134,\n",
       "  0.3640673756599426,\n",
       "  0.3631196916103363,\n",
       "  0.362870454788208,\n",
       "  0.36330386996269226,\n",
       "  0.3652123212814331,\n",
       "  0.3634248673915863,\n",
       "  0.36375418305397034,\n",
       "  0.36347725987434387,\n",
       "  0.3636190891265869,\n",
       "  0.36424654722213745,\n",
       "  0.36424705386161804,\n",
       "  0.3633373975753784,\n",
       "  0.36308223009109497,\n",
       "  0.36299651861190796]}"
      ]
     },
     "execution_count": 26,
     "metadata": {},
     "output_type": "execute_result"
    }
   ],
   "source": [
    "history.history"
   ]
  },
  {
   "cell_type": "code",
   "execution_count": 27,
   "id": "a5c5cd93-5a76-4b34-8c8e-0bcc049087cb",
   "metadata": {
    "trusted": true
   },
   "outputs": [
    {
     "data": {
      "text/plain": [
       "[<matplotlib.lines.Line2D at 0x272a45a7590>]"
      ]
     },
     "execution_count": 27,
     "metadata": {},
     "output_type": "execute_result"
    },
    {
     "data": {
      "image/png": "[encoded data removed]",
      "text/plain": [
       "<Figure size 640x480 with 1 Axes>"
      ]
     },
     "metadata": {},
     "output_type": "display_data"
    }
   ],
   "source": [
    "plt.plot(history.history['loss'])\n",
    "plt.plot(history.history['val_loss'])"
   ]
  },
  {
   "cell_type": "code",
   "execution_count": 28,
   "id": "5b6fe34d-c21c-4075-bd13-6f54c2bb3e32",
   "metadata": {
    "trusted": true
   },
   "outputs": [
    {
     "data": {
      "text/plain": [
       "[<matplotlib.lines.Line2D at 0x272a710b9d0>]"
      ]
     },
     "execution_count": 28,
     "metadata": {},
     "output_type": "execute_result"
    },
    {
     "data": {
      "image/png": "[encoded data removed]",
      "text/plain": [
       "<Figure size 640x480 with 1 Axes>"
      ]
     },
     "metadata": {},
     "output_type": "display_data"
    }
   ],
   "source": [
    "plt.plot(history.history['accuracy'])\n",
    "plt.plot(history.history['val_accuracy'])"
   ]
  },
  {
   "cell_type": "code",
   "execution_count": 29,
   "id": "6f1fc508-ca1e-4b85-b7b7-2d27ef5c5dc8",
   "metadata": {
    "trusted": true
   },
   "outputs": [],
   "source": [
    "import numpy as np\n",
    "import pandas as pd\n",
    "import pickle\n",
    "import tensorflow\n",
    "from tensorflow import keras\n",
    "from tensorflow.keras.models import load_model"
   ]
  },
  {
   "cell_type": "code",
   "execution_count": 31,
   "id": "da5a0a2e",
   "metadata": {},
   "outputs": [
    {
     "name": "stderr",
     "output_type": "stream",
     "text": [
      "WARNING:absl:Compiled the loaded model, but the compiled metrics have yet to be built. `model.compile_metrics` will be empty until you train or evaluate the model.\n"
     ]
    }
   ],
   "source": [
    "model = load_model('./Model/ann_model.h5')"
   ]
  },
  {
   "cell_type": "code",
   "execution_count": 32,
   "id": "a507d218",
   "metadata": {},
   "outputs": [],
   "source": [
    "with open('./Scaler.pkl','rb') as file:\n",
    "    scaler = pickle.load(file)\n",
    "with open('./Encoder_gender.pkl','rb') as file:\n",
    "    en_gender = pickle.load(file)\n",
    "with open('./Encoder_geography.pkl','rb') as file:\n",
    "    en_geography = pickle.load(file)"
   ]
  },
  {
   "cell_type": "code",
   "execution_count": 33,
   "id": "888fc47f",
   "metadata": {},
   "outputs": [
    {
     "data": {
      "text/plain": [
       "(array([0]), array([0]))"
      ]
     },
     "execution_count": 33,
     "metadata": {},
     "output_type": "execute_result"
    }
   ],
   "source": [
    "geology = en_geography.transform(['France'])\n",
    "gender = en_gender.transform(['Female'])\n",
    "geology, gender"
   ]
  },
  {
   "cell_type": "code",
   "execution_count": 34,
   "id": "ed6b77b1",
   "metadata": {},
   "outputs": [
    {
     "name": "stderr",
     "output_type": "stream",
     "text": [
      "f:\\Windows 10\\Python Files\\Projects\\py_venv\\Lib\\site-packages\\sklearn\\utils\\validation.py:2749: UserWarning: X does not have valid feature names, but StandardScaler was fitted with feature names\n",
      "  warnings.warn(\n"
     ]
    },
    {
     "data": {
      "text/plain": [
       "array([[-0.32622142, -0.90188624, -1.09598752,  0.29351742, -1.04175968,\n",
       "        -1.22584767, -0.91158349,  0.64609167,  0.97024255,  0.02188649]])"
      ]
     },
     "execution_count": 34,
     "metadata": {},
     "output_type": "execute_result"
    }
   ],
   "source": [
    "data = scaler.transform([[619,0,0,42,2,0,1,1,1,101348.88]])\n",
    "data"
   ]
  },
  {
   "cell_type": "code",
   "execution_count": 35,
   "id": "4cc0fd60",
   "metadata": {},
   "outputs": [
    {
     "name": "stdout",
     "output_type": "stream",
     "text": [
      "\u001b[1m1/1\u001b[0m \u001b[32m━━━━━━━━━━━━━━━━━━━━\u001b[0m\u001b[37m\u001b[0m \u001b[1m0s\u001b[0m 85ms/step\n"
     ]
    },
    {
     "data": {
      "text/plain": [
       "array([[0.4665925]], dtype=float32)"
      ]
     },
     "execution_count": 35,
     "metadata": {},
     "output_type": "execute_result"
    }
   ],
   "source": [
    "model.predict(data)"
   ]
  },
  {
   "cell_type": "code",
   "execution_count": null,
   "id": "217648d3",
   "metadata": {},
   "outputs": [],
   "source": []
  }
 ],
 "metadata": {
  "kernelspec": {
   "display_name": "py_venv",
   "language": "python",
   "name": "python3"
  },
  "language_info": {
   "codemirror_mode": {
    "name": "ipython",
    "version": 3
   },
   "file_extension": ".py",
   "mimetype": "text/x-python",
   "name": "python",
   "nbconvert_exporter": "python",
   "pygments_lexer": "ipython3",
   "version": "3.11.9"
  }
 },
 "nbformat": 4,
 "nbformat_minor": 5
}
